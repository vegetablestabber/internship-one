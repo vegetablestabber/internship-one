{
 "cells": [
  {
   "cell_type": "code",
   "execution_count": 2,
   "metadata": {},
   "outputs": [],
   "source": [
    "# Import MAESTRI dataset\n",
    "\n",
    "# Import correspondence tables\n",
    "\n",
    "# Match ISIC, WZ and SSIC codes to NACE codes\n",
    "\n",
    "## ISIC doesn't need NLP\n",
    "\n",
    "## WZ and SSIC have multiple codes for a given NACE code\n",
    "\n",
    "### Use a LLM to find the best match given extra info"
   ]
  },
  {
   "cell_type": "markdown",
   "metadata": {},
   "source": [
    "### 0. Utilities"
   ]
  },
  {
   "cell_type": "markdown",
   "metadata": {},
   "source": [
    "#### Imports"
   ]
  },
  {
   "cell_type": "code",
   "execution_count": 3,
   "metadata": {},
   "outputs": [],
   "source": [
    "import pandas as pd\n",
    "import re\n",
    "import ollama\n",
    "import json"
   ]
  },
  {
   "cell_type": "code",
   "execution_count": 4,
   "metadata": {},
   "outputs": [],
   "source": [
    "import os\n",
    "import sys\n",
    "\n",
    "module_path = os.path.abspath(os.path.join('..'))\n",
    "\n",
    "if module_path not in sys.path:\n",
    "    sys.path.append(module_path)\n",
    "\n",
    "from utils.constants import STANDARDS\n",
    "from utils.types import IndustryStandard, IndustryCode\n",
    "from utils.functions.files import read_inference, read_correspondence, read_maestri\n",
    "from utils.functions.maestri import new_col, new_roles"
   ]
  },
  {
   "cell_type": "markdown",
   "metadata": {},
   "source": [
    "#### Constants"
   ]
  },
  {
   "cell_type": "code",
   "execution_count": 5,
   "metadata": {},
   "outputs": [],
   "source": [
    "# Non-NACE standards\n",
    "NON_NACE_STDS = STANDARDS[1:]\n",
    "\n",
    "inference_dfs = read_inference()"
   ]
  },
  {
   "cell_type": "markdown",
   "metadata": {},
   "source": [
    "#### Helper functions"
   ]
  },
  {
   "cell_type": "markdown",
   "metadata": {},
   "source": [
    "##### Obtaining column names"
   ]
  },
  {
   "cell_type": "code",
   "execution_count": 6,
   "metadata": {},
   "outputs": [],
   "source": [
    "# Obtain column name for similarity score, given ICS and company role\n",
    "similarity_col = lambda std, role: f\"{role} {std.value} code sim. score\""
   ]
  },
  {
   "cell_type": "markdown",
   "metadata": {},
   "source": [
    "### 1. Reading the MAESTRI dataset"
   ]
  },
  {
   "cell_type": "markdown",
   "metadata": {},
   "source": [
    "#### Importing the spreadsheet"
   ]
  },
  {
   "cell_type": "code",
   "execution_count": 7,
   "metadata": {},
   "outputs": [
    {
     "data": {
      "text/html": [
       "<div>\n",
       "<style scoped>\n",
       "    .dataframe tbody tr th:only-of-type {\n",
       "        vertical-align: middle;\n",
       "    }\n",
       "\n",
       "    .dataframe tbody tr th {\n",
       "        vertical-align: top;\n",
       "    }\n",
       "\n",
       "    .dataframe thead th {\n",
       "        text-align: right;\n",
       "    }\n",
       "</style>\n",
       "<table border=\"1\" class=\"dataframe\">\n",
       "  <thead>\n",
       "    <tr style=\"text-align: right;\">\n",
       "      <th></th>\n",
       "      <th>Donor NACE code</th>\n",
       "      <th>Donor ISIC code</th>\n",
       "      <th>Donor WZ code</th>\n",
       "      <th>Donor SSIC code</th>\n",
       "    </tr>\n",
       "  </thead>\n",
       "  <tbody>\n",
       "    <tr>\n",
       "      <th>0</th>\n",
       "      <td>1920</td>\n",
       "      <td>1920</td>\n",
       "      <td>19200</td>\n",
       "      <td>19201</td>\n",
       "    </tr>\n",
       "    <tr>\n",
       "      <th>1</th>\n",
       "      <td>1920</td>\n",
       "      <td>1920</td>\n",
       "      <td>19200</td>\n",
       "      <td>19201</td>\n",
       "    </tr>\n",
       "    <tr>\n",
       "      <th>2</th>\n",
       "      <td>2410</td>\n",
       "      <td>2410</td>\n",
       "      <td>24520</td>\n",
       "      <td>24310</td>\n",
       "    </tr>\n",
       "    <tr>\n",
       "      <th>3</th>\n",
       "      <td>2410</td>\n",
       "      <td>2410</td>\n",
       "      <td>24520</td>\n",
       "      <td>24310</td>\n",
       "    </tr>\n",
       "    <tr>\n",
       "      <th>4</th>\n",
       "      <td>2351</td>\n",
       "      <td>2394</td>\n",
       "      <td>23510;23650;23610</td>\n",
       "      <td>23940</td>\n",
       "    </tr>\n",
       "  </tbody>\n",
       "</table>\n",
       "</div>"
      ],
      "text/plain": [
       "  Donor NACE code Donor ISIC code      Donor WZ code Donor SSIC code\n",
       "0            1920            1920              19200           19201\n",
       "1            1920            1920              19200           19201\n",
       "2            2410            2410              24520           24310\n",
       "3            2410            2410              24520           24310\n",
       "4            2351            2394  23510;23650;23610           23940"
      ]
     },
     "execution_count": 7,
     "metadata": {},
     "output_type": "execute_result"
    }
   ],
   "source": [
    "# Read the MAESTRI dataset as a DataFrame\n",
    "maestri_dfs = read_maestri()\n",
    "maestri_dfs[0].head()"
   ]
  },
  {
   "cell_type": "code",
   "execution_count": 8,
   "metadata": {},
   "outputs": [],
   "source": [
    "correspondence_dfs = read_correspondence()\n",
    "inference_dfs = read_inference()"
   ]
  },
  {
   "cell_type": "code",
   "execution_count": 9,
   "metadata": {},
   "outputs": [],
   "source": [
    "def get_level(code) -> int:\n",
    "    df = inference_dfs[code.std]\n",
    "    \n",
    "    if code.value in df.index:\n",
    "        return df.loc[code.value, \"Level\"]\n",
    "\n",
    "    return None\n",
    "\n",
    "def get_children(code):\n",
    "    df = inference_dfs[code.std]\n",
    "    \n",
    "    if code.value == \"\" or code.value in df.index:\n",
    "        return [IndustryCode(code.std, value) for value in df[df[\"Parent\"] == code.value].index]\n",
    "\n",
    "    return None\n",
    "\n",
    "def get_parent(code, level=-1):\n",
    "    df = inference_dfs[code.std]\n",
    "    \n",
    "    if code.value in df.index:        \n",
    "        v = df.loc[code.value, \"Parent\"]\n",
    "        l = df.loc[v, \"Level\"]\n",
    "        \n",
    "        # Level == -1 (immediate parent)\n",
    "        while level != -1 and l > level:\n",
    "            v = df.loc[v, \"Parent\"]\n",
    "            l = df.loc[v, \"Level\"]\n",
    "        \n",
    "        return IndustryCode(code.std, v)\n",
    "\n",
    "    return None\n",
    "\n",
    "# Evaluate the highest common level (HCL)\n",
    "def get_common_parent(code, std):\n",
    "    # from_df = inference_dfs[code.std]\n",
    "    to_df = inference_dfs[std]\n",
    "    level = get_level(code)\n",
    "    \n",
    "    if level == 1:\n",
    "        return IndustryCode(std, \"\")\n",
    "    \n",
    "    parent = get_parent(code)\n",
    "    \n",
    "    if parent.value in to_df.index and len(get_children(parent)) > 0:\n",
    "        return IndustryCode(std, parent.value)\n",
    "    \n",
    "    while parent.value not in to_df.index:\n",
    "        # print(std.value + \": \" + c.value)\n",
    "        parent = get_parent(parent)\n",
    "        # print(parent.value)\n",
    "    \n",
    "    return IndustryCode(std, parent.value)"
   ]
  },
  {
   "cell_type": "code",
   "execution_count": 10,
   "metadata": {},
   "outputs": [],
   "source": [
    "def get_detailed_code_str(code):\n",
    "\tdf = inference_dfs[code.std].copy()\n",
    "    \n",
    "\tif code.value in df.index:\n",
    "\t\tseries = df.loc[code.value]\n",
    "\t\tseries = series[series.index[~series.index.isin([\"Level\", \"Parent\", \"ISIC code\"])]]\n",
    "\t\tstring = f\"{code.std.value} Code: {series.name}\\n\"\n",
    "\n",
    "\t\tfor col in series.index:\n",
    "\t\t\tif series[col] != \"\":\n",
    "\t\t\t\ttext = re.sub(r\"\\s*\\(\\d+\\.\\d+(?:\\,\\s*\\d+\\.\\d+)*\\)\", \"\", series[col])\n",
    "\t\t\t\ttext = text.replace(\"\\n\", \"\")\n",
    "\t\t\t\t\n",
    "\t\t\t\tstring += f\"{col}: {text}\\n\"\n",
    "\t\t\t\t\t\t\n",
    "\t\treturn string.strip()\n",
    "\n",
    "\treturn None\n",
    "\n",
    "def get_match_prompt(from_code, to_codes):\n",
    "    from_std = from_code.std\n",
    "    to_std = to_codes[0].std\n",
    "    \n",
    "    prompt = f\"Match the given {from_std.value} code to the most similar of the following {to_std.value} codes\" \\\n",
    "\t\t\t  \" using their descriptions, examples and exclusions. When returning the result as JSON, the keys\" \\\n",
    "       \t\t f\" for the given code should be '{from_std.value}' and for the matched code as '{to_std.value}':\" \\\n",
    "    \t\t f\"\\n\\n{get_detailed_code_str(from_code)}\"\n",
    "    \n",
    "    for code in to_codes:\n",
    "        prompt += \"\\n\\n\" + get_detailed_code_str(code)\n",
    "    \n",
    "    return prompt\n",
    "\n",
    "def get_match_prompt_from_common_parent(from_code, to_std):\n",
    "    common_parent = get_common_parent(from_code, to_std)\n",
    "    return get_match_prompt(from_code, get_children(common_parent))"
   ]
  },
  {
   "cell_type": "code",
   "execution_count": 11,
   "metadata": {},
   "outputs": [
    {
     "name": "stdout",
     "output_type": "stream",
     "text": [
      "Match the given SSIC code to the most similar of the following WZ codes using their descriptions, examples and exclusions. When returning the result as JSON, the keys for the given code should be 'SSIC' and for the matched code as 'WZ':\n",
      "\n",
      "SSIC Code: 01\n",
      "Description: AGRICULTURE AND RELATED SERVICE ACTIVITIES\n",
      "\n",
      "WZ Code: 01\n",
      "Description: Crop and animal production, hunting and related service activities\n",
      "\n",
      "WZ Code: 02\n",
      "Description: Forestry and logging\n",
      "\n",
      "WZ Code: 03\n",
      "Description: Fishing and aquaculture\n"
     ]
    }
   ],
   "source": [
    "c = IndustryCode(IndustryStandard.SSIC, \"01\")\n",
    "print(get_match_prompt_from_common_parent(c, IndustryStandard.WZ))"
   ]
  },
  {
   "cell_type": "markdown",
   "metadata": {},
   "source": [
    "### 2. Obtaining similarity scores for validation"
   ]
  },
  {
   "cell_type": "code",
   "execution_count": 12,
   "metadata": {},
   "outputs": [
    {
     "data": {
      "text/html": [
       "<div>\n",
       "<style scoped>\n",
       "    .dataframe tbody tr th:only-of-type {\n",
       "        vertical-align: middle;\n",
       "    }\n",
       "\n",
       "    .dataframe tbody tr th {\n",
       "        vertical-align: top;\n",
       "    }\n",
       "\n",
       "    .dataframe thead th {\n",
       "        text-align: right;\n",
       "    }\n",
       "</style>\n",
       "<table border=\"1\" class=\"dataframe\">\n",
       "  <thead>\n",
       "    <tr style=\"text-align: right;\">\n",
       "      <th></th>\n",
       "      <th>Intermediary NACE code</th>\n",
       "      <th>Intermediary ISIC code</th>\n",
       "      <th>Intermediary WZ code</th>\n",
       "      <th>Intermediary SSIC code</th>\n",
       "    </tr>\n",
       "  </thead>\n",
       "  <tbody>\n",
       "    <tr>\n",
       "      <th>31</th>\n",
       "      <td>0610</td>\n",
       "      <td>0610</td>\n",
       "      <td>06100</td>\n",
       "      <td>19201;09001</td>\n",
       "    </tr>\n",
       "    <tr>\n",
       "      <th>50</th>\n",
       "      <td>0610</td>\n",
       "      <td>0610</td>\n",
       "      <td>06100</td>\n",
       "      <td>19201;09001</td>\n",
       "    </tr>\n",
       "    <tr>\n",
       "      <th>98</th>\n",
       "      <td>1712</td>\n",
       "      <td>1701</td>\n",
       "      <td>17120;17230;17290;28950</td>\n",
       "      <td>17099;17010</td>\n",
       "    </tr>\n",
       "    <tr>\n",
       "      <th>99</th>\n",
       "      <td>1712</td>\n",
       "      <td>1701</td>\n",
       "      <td>17120;17230;17290;28950</td>\n",
       "      <td>17099;17010</td>\n",
       "    </tr>\n",
       "    <tr>\n",
       "      <th>100</th>\n",
       "      <td>1920</td>\n",
       "      <td>1920</td>\n",
       "      <td>20140;20130</td>\n",
       "      <td>20113;20119</td>\n",
       "    </tr>\n",
       "  </tbody>\n",
       "</table>\n",
       "</div>"
      ],
      "text/plain": [
       "    Intermediary NACE code Intermediary ISIC code     Intermediary WZ code  \\\n",
       "31                    0610                   0610                    06100   \n",
       "50                    0610                   0610                    06100   \n",
       "98                    1712                   1701  17120;17230;17290;28950   \n",
       "99                    1712                   1701  17120;17230;17290;28950   \n",
       "100                   1920                   1920              20140;20130   \n",
       "\n",
       "    Intermediary SSIC code  \n",
       "31             19201;09001  \n",
       "50             19201;09001  \n",
       "98             17099;17010  \n",
       "99             17099;17010  \n",
       "100            20113;20119  "
      ]
     },
     "execution_count": 12,
     "metadata": {},
     "output_type": "execute_result"
    }
   ],
   "source": [
    "df = maestri_dfs[1].copy()\n",
    "df = df[df[\"Intermediary SSIC code\"].str.contains(\";\")]\n",
    "df = df.head()\n",
    "\n",
    "df"
   ]
  },
  {
   "cell_type": "code",
   "execution_count": 13,
   "metadata": {},
   "outputs": [],
   "source": [
    "str_to_codes = lambda text, std: [IndustryCode(std, val) for val in text.split(\";\")]\n",
    "\n",
    "def get_match(from_code, text, to_std):\n",
    "\tto_codes = [code for code in str_to_codes(text, to_std) if get_parent(code, level=1).value == get_parent(from_code, level=1).value]\n",
    "\n",
    "\tif len(to_codes) == 1:\n",
    "\t\treturn to_codes[0]\n",
    "\n",
    "\tprint(f\"Given {from_code.std.value} code: {from_code.value}, given {to_std.value} codes: {text}\")\n",
    "\n",
    "\tprompt = get_match_prompt(from_code, to_codes)\n",
    "\t# print(\"Prompt: \" + prompt)\n",
    "\n",
    "\tresponse = ollama.generate(model='llama3', prompt=prompt, format=\"json\")\n",
    "\tresponse = json.loads(response[\"response\"])\n",
    "\tprint(f\"Given {from_code.std.value} code: {from_code.value}, matched {to_std.value} code: {response[to_std.value]}\")\n",
    "\n",
    "\treturn IndustryCode(to_std, response[to_std.value])"
   ]
  },
  {
   "cell_type": "code",
   "execution_count": 14,
   "metadata": {},
   "outputs": [
    {
     "name": "stdout",
     "output_type": "stream",
     "text": [
      "Given NACE code: 0610, given ISIC codes: 0610\n",
      "Given NACE code: 0610, given ISIC codes: 0610\n",
      "Given NACE code: 1712, given ISIC codes: 1701\n",
      "Given NACE code: 1712, given ISIC codes: 1701\n",
      "Given NACE code: 1920, given ISIC codes: 1920\n",
      "Given NACE code: 0610, given WZ codes: 06100\n",
      "Given NACE code: 0610, given WZ codes: 06100\n",
      "Given NACE code: 1712, given WZ codes: 17120;17230;17290;28950\n",
      "Given NACE code: 1712, matched WZ code: 17120\n",
      "Given NACE code: 1712, given WZ codes: 17120;17230;17290;28950\n",
      "Given NACE code: 1712, matched WZ code: 17120\n",
      "Given NACE code: 1920, given WZ codes: 20140;20130\n",
      "Given NACE code: 1920, matched WZ code: 20130\n",
      "Given NACE code: 0610, given SSIC codes: 19201;09001\n",
      "Given NACE code: 0610, given SSIC codes: 19201;09001\n",
      "Given NACE code: 1712, given SSIC codes: 17099;17010\n",
      "Given NACE code: 1712, matched SSIC code: 17010\n",
      "Given NACE code: 1712, given SSIC codes: 17099;17010\n",
      "Given NACE code: 1712, matched SSIC code: 17010\n",
      "Given NACE code: 1920, given SSIC codes: 20113;20119\n",
      "Given NACE code: 1920, matched SSIC code: 20119\n"
     ]
    },
    {
     "data": {
      "text/html": [
       "<div>\n",
       "<style scoped>\n",
       "    .dataframe tbody tr th:only-of-type {\n",
       "        vertical-align: middle;\n",
       "    }\n",
       "\n",
       "    .dataframe tbody tr th {\n",
       "        vertical-align: top;\n",
       "    }\n",
       "\n",
       "    .dataframe thead th {\n",
       "        text-align: right;\n",
       "    }\n",
       "</style>\n",
       "<table border=\"1\" class=\"dataframe\">\n",
       "  <thead>\n",
       "    <tr style=\"text-align: right;\">\n",
       "      <th></th>\n",
       "      <th>Intermediary NACE code</th>\n",
       "      <th>Intermediary ISIC code</th>\n",
       "      <th>Intermediary WZ code</th>\n",
       "      <th>Intermediary SSIC code</th>\n",
       "    </tr>\n",
       "  </thead>\n",
       "  <tbody>\n",
       "    <tr>\n",
       "      <th>31</th>\n",
       "      <td>0610</td>\n",
       "      <td>0610</td>\n",
       "      <td>06100</td>\n",
       "      <td>09001</td>\n",
       "    </tr>\n",
       "    <tr>\n",
       "      <th>50</th>\n",
       "      <td>0610</td>\n",
       "      <td>0610</td>\n",
       "      <td>06100</td>\n",
       "      <td>09001</td>\n",
       "    </tr>\n",
       "    <tr>\n",
       "      <th>98</th>\n",
       "      <td>1712</td>\n",
       "      <td>1701</td>\n",
       "      <td>17120</td>\n",
       "      <td>17010</td>\n",
       "    </tr>\n",
       "    <tr>\n",
       "      <th>99</th>\n",
       "      <td>1712</td>\n",
       "      <td>1701</td>\n",
       "      <td>17120</td>\n",
       "      <td>17010</td>\n",
       "    </tr>\n",
       "    <tr>\n",
       "      <th>100</th>\n",
       "      <td>1920</td>\n",
       "      <td>1920</td>\n",
       "      <td>20130</td>\n",
       "      <td>20119</td>\n",
       "    </tr>\n",
       "  </tbody>\n",
       "</table>\n",
       "</div>"
      ],
      "text/plain": [
       "    Intermediary NACE code Intermediary ISIC code Intermediary WZ code  \\\n",
       "31                    0610                   0610                06100   \n",
       "50                    0610                   0610                06100   \n",
       "98                    1712                   1701                17120   \n",
       "99                    1712                   1701                17120   \n",
       "100                   1920                   1920                20130   \n",
       "\n",
       "    Intermediary SSIC code  \n",
       "31                   09001  \n",
       "50                   09001  \n",
       "98                   17010  \n",
       "99                   17010  \n",
       "100                  20119  "
      ]
     },
     "execution_count": 14,
     "metadata": {},
     "output_type": "execute_result"
    }
   ],
   "source": [
    "role = new_roles[1]\n",
    "nace_col = new_col(STANDARDS[0], role)\n",
    "\n",
    "# Iterate through all standards except NACE as it is to be compared with\n",
    "for std in NON_NACE_STDS:\n",
    "\t# Standard column, example for ISIC: 'Donor ISIC code'\n",
    "\tstd_col = new_col(std, role)\n",
    "\t\n",
    "\t# Zip the NACE and standard columns to iterate through\n",
    "\ttuples = zip(df[nace_col], df[std_col])\n",
    "\t\n",
    "\t### -> INTRODUCE SIMILAR CODES HERE\n",
    "\tdf[std_col] = [get_match(    IndustryCode(IndustryStandard.NACE, t[0]), t[1], std    ).value for t in tuples]\n",
    "    \n",
    "# List containing new order of columns for readability\n",
    "cols = [nace_col] + [f(std, role) for std in NON_NACE_STDS for f in (new_col,)]\n",
    "\n",
    "df = df[cols]\n",
    "df"
   ]
  },
  {
   "cell_type": "code",
   "execution_count": 15,
   "metadata": {},
   "outputs": [],
   "source": [
    "# # Loop through all company types\n",
    "# for i in range(len(new_roles)):\n",
    "#     # Role: either 'Donor', 'Intermediary' or 'Receiver'\n",
    "#     role = new_roles[i]\n",
    "    \n",
    "#     # NACE column, example: 'Provider NACE code'\n",
    "#     nace_col = new_col(STANDARDS[0], role)\n",
    "    \n",
    "#     # Iterate through all standards except NACE as it is to be compared with\n",
    "#     for std in NON_NACE_STDS:\n",
    "#         df = maestri_dfs[i]\n",
    "        \n",
    "#         # Standard column, example for ISIC: 'Donor ISIC code'\n",
    "#         std_col = new_col(std, role)\n",
    "        \n",
    "#         # Zip the NACE and standard columns to iterate through\n",
    "#         tuples = zip(df[nace_col], df[std_col])\n",
    "        \n",
    "#         ### -> INTRODUCE SIMILAR CODES HERE\n",
    "        \n",
    "        \n",
    "    \n",
    "#     # List containing new order of columns for readability\n",
    "#     cols = [nace_col] + [f(std, role) for std in NON_NACE_STDS for f in (new_col,)]\n",
    "    \n",
    "#     # Reorder columns for readability\n",
    "#     maestri_dfs[i] = maestri_dfs[i][cols]"
   ]
  }
 ],
 "metadata": {
  "kernelspec": {
   "display_name": "internship",
   "language": "python",
   "name": "python3"
  },
  "language_info": {
   "codemirror_mode": {
    "name": "ipython",
    "version": 3
   },
   "file_extension": ".py",
   "mimetype": "text/x-python",
   "name": "python",
   "nbconvert_exporter": "python",
   "pygments_lexer": "ipython3",
   "version": "3.11.9"
  }
 },
 "nbformat": 4,
 "nbformat_minor": 2
}
