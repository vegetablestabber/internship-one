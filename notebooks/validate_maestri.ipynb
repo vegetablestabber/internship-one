{
 "cells": [
  {
   "cell_type": "markdown",
   "metadata": {},
   "source": [
    "### 0. Utilities"
   ]
  },
  {
   "cell_type": "markdown",
   "metadata": {},
   "source": [
    "#### Imports"
   ]
  },
  {
   "cell_type": "code",
   "execution_count": 15,
   "metadata": {},
   "outputs": [],
   "source": [
    "import numpy as np\n",
    "import pandas as pd\n",
    "import matplotlib.pyplot as plt\n",
    "import matplotlib.ticker as mtick"
   ]
  },
  {
   "cell_type": "code",
   "execution_count": 16,
   "metadata": {},
   "outputs": [],
   "source": [
    "import os\n",
    "import sys\n",
    "\n",
    "module_path = os.path.abspath(os.path.join('..'))\n",
    "\n",
    "if module_path not in sys.path:\n",
    "    sys.path.append(module_path)\n",
    "\n",
    "from utils.constants import STANDARDS, EXPORTS_PATH, DIFF_THRESHOLD\n",
    "from utils.types import IndustryStandard\n",
    "from utils.maestri import NEW_MAESTRI_ROLES, read_maestri, get_new_code_col\n",
    "from utils.similarity import get_similarity, get_similarity_col"
   ]
  },
  {
   "cell_type": "markdown",
   "metadata": {},
   "source": [
    "#### Constants"
   ]
  },
  {
   "cell_type": "code",
   "execution_count": 17,
   "metadata": {},
   "outputs": [],
   "source": [
    "# Non-NACE standards\n",
    "NON_NACE_STDS = STANDARDS[1:]"
   ]
  },
  {
   "cell_type": "markdown",
   "metadata": {},
   "source": [
    "### 1. Reading the MAESTRI dataset"
   ]
  },
  {
   "cell_type": "markdown",
   "metadata": {},
   "source": [
    "#### Importing the spreadsheet"
   ]
  },
  {
   "cell_type": "code",
   "execution_count": 18,
   "metadata": {},
   "outputs": [],
   "source": [
    "# Read the MAESTRI dataset as a DataFrame\n",
    "maestri_dfs = read_maestri()"
   ]
  },
  {
   "cell_type": "code",
   "execution_count": 19,
   "metadata": {},
   "outputs": [
    {
     "data": {
      "text/html": [
       "<div>\n",
       "<style scoped>\n",
       "    .dataframe tbody tr th:only-of-type {\n",
       "        vertical-align: middle;\n",
       "    }\n",
       "\n",
       "    .dataframe tbody tr th {\n",
       "        vertical-align: top;\n",
       "    }\n",
       "\n",
       "    .dataframe thead th {\n",
       "        text-align: right;\n",
       "    }\n",
       "</style>\n",
       "<table border=\"1\" class=\"dataframe\">\n",
       "  <thead>\n",
       "    <tr style=\"text-align: right;\">\n",
       "      <th></th>\n",
       "      <th>Company description</th>\n",
       "      <th>NACE code</th>\n",
       "      <th>ISIC code</th>\n",
       "      <th>WZ code</th>\n",
       "      <th>SSIC code</th>\n",
       "    </tr>\n",
       "  </thead>\n",
       "  <tbody>\n",
       "    <tr>\n",
       "      <th>0</th>\n",
       "      <td>Refinery</td>\n",
       "      <td>1920</td>\n",
       "      <td>1920</td>\n",
       "      <td>19200</td>\n",
       "      <td>19201</td>\n",
       "    </tr>\n",
       "    <tr>\n",
       "      <th>1</th>\n",
       "      <td>Refinery</td>\n",
       "      <td>1920</td>\n",
       "      <td>1920</td>\n",
       "      <td>19200</td>\n",
       "      <td>19201</td>\n",
       "    </tr>\n",
       "    <tr>\n",
       "      <th>2</th>\n",
       "      <td>Steelworks</td>\n",
       "      <td>2410</td>\n",
       "      <td>2410</td>\n",
       "      <td>24520</td>\n",
       "      <td>24310</td>\n",
       "    </tr>\n",
       "    <tr>\n",
       "      <th>3</th>\n",
       "      <td>Steelworks</td>\n",
       "      <td>2410</td>\n",
       "      <td>2410</td>\n",
       "      <td>24520</td>\n",
       "      <td>24310</td>\n",
       "    </tr>\n",
       "    <tr>\n",
       "      <th>4</th>\n",
       "      <td>Cement production</td>\n",
       "      <td>2351</td>\n",
       "      <td>2394</td>\n",
       "      <td>23510;23650;23610</td>\n",
       "      <td>23940</td>\n",
       "    </tr>\n",
       "  </tbody>\n",
       "</table>\n",
       "</div>"
      ],
      "text/plain": [
       "  Company description NACE code ISIC code            WZ code SSIC code\n",
       "0            Refinery      1920      1920              19200     19201\n",
       "1            Refinery      1920      1920              19200     19201\n",
       "2          Steelworks      2410      2410              24520     24310\n",
       "3          Steelworks      2410      2410              24520     24310\n",
       "4   Cement production      2351      2394  23510;23650;23610     23940"
      ]
     },
     "execution_count": 19,
     "metadata": {},
     "output_type": "execute_result"
    }
   ],
   "source": [
    "maestri_dfs[0].head()"
   ]
  },
  {
   "cell_type": "markdown",
   "metadata": {},
   "source": [
    "### 2. Obtaining similarity scores for validation"
   ]
  },
  {
   "cell_type": "code",
   "execution_count": 20,
   "metadata": {},
   "outputs": [],
   "source": [
    "# Loop through all company types\n",
    "for i in range(len(NEW_MAESTRI_ROLES)):\n",
    "    # Role: either 'Donor', 'Intermediary' or 'Receiver'\n",
    "    role = NEW_MAESTRI_ROLES[i]\n",
    "    \n",
    "    # NACE column, example: 'Provider NACE code'\n",
    "    nace_col = get_new_code_col(STANDARDS[0])\n",
    "    \n",
    "    # Iterate through all standards except NACE as it is to be compared with\n",
    "    for std in NON_NACE_STDS:\n",
    "        df = maestri_dfs[i]\n",
    "        \n",
    "        # Standard column, example for ISIC: 'Donor ISIC code'\n",
    "        std_col = get_new_code_col(std)\n",
    "\n",
    "        similarity_col = get_similarity_col(std)\n",
    "        \n",
    "        # Zip the NACE and standard columns to iterate through\n",
    "        tuples = zip(df[nace_col], df[std_col])\n",
    "        \n",
    "        # Append the similarity score column of a certain standard to the DataFrame for a given role\n",
    "        df[similarity_col] = [get_similarity(a[0], IndustryStandard.NACE, a[1], std) for a in tuples]\n",
    "        \n",
    "        # Convert the similarity score column data type to 'float'\n",
    "        df[similarity_col] = df[similarity_col].astype(float)\n",
    "    \n",
    "    # List containing new order of columns for readability\n",
    "    cols = [nace_col] + [f(std) for std in NON_NACE_STDS for f in (get_new_code_col, get_similarity_col)]\n",
    "    \n",
    "    # Reorder columns for readability\n",
    "    maestri_dfs[i] = maestri_dfs[i][cols]"
   ]
  },
  {
   "cell_type": "code",
   "execution_count": 21,
   "metadata": {},
   "outputs": [
    {
     "data": {
      "text/html": [
       "<div>\n",
       "<style scoped>\n",
       "    .dataframe tbody tr th:only-of-type {\n",
       "        vertical-align: middle;\n",
       "    }\n",
       "\n",
       "    .dataframe tbody tr th {\n",
       "        vertical-align: top;\n",
       "    }\n",
       "\n",
       "    .dataframe thead th {\n",
       "        text-align: right;\n",
       "    }\n",
       "</style>\n",
       "<table border=\"1\" class=\"dataframe\">\n",
       "  <thead>\n",
       "    <tr style=\"text-align: right;\">\n",
       "      <th></th>\n",
       "      <th>NACE code</th>\n",
       "      <th>ISIC code</th>\n",
       "      <th>ISIC code sim. score</th>\n",
       "      <th>WZ code</th>\n",
       "      <th>WZ code sim. score</th>\n",
       "      <th>SSIC code</th>\n",
       "      <th>SSIC code sim. score</th>\n",
       "    </tr>\n",
       "  </thead>\n",
       "  <tbody>\n",
       "    <tr>\n",
       "      <th>28</th>\n",
       "      <td>0150</td>\n",
       "      <td>0150</td>\n",
       "      <td>1.0</td>\n",
       "      <td>01500</td>\n",
       "      <td>1.0</td>\n",
       "      <td>01412</td>\n",
       "      <td>1.0</td>\n",
       "    </tr>\n",
       "    <tr>\n",
       "      <th>30</th>\n",
       "      <td>382</td>\n",
       "      <td>382</td>\n",
       "      <td>1.0</td>\n",
       "      <td>382</td>\n",
       "      <td>1.0</td>\n",
       "      <td>382</td>\n",
       "      <td>1.0</td>\n",
       "    </tr>\n",
       "    <tr>\n",
       "      <th>31</th>\n",
       "      <td>0610</td>\n",
       "      <td>0610</td>\n",
       "      <td>1.0</td>\n",
       "      <td>06100</td>\n",
       "      <td>1.0</td>\n",
       "      <td>19201;09001</td>\n",
       "      <td>0.5</td>\n",
       "    </tr>\n",
       "    <tr>\n",
       "      <th>50</th>\n",
       "      <td>0610</td>\n",
       "      <td>0610</td>\n",
       "      <td>1.0</td>\n",
       "      <td>06100</td>\n",
       "      <td>1.0</td>\n",
       "      <td>19201;09001</td>\n",
       "      <td>0.5</td>\n",
       "    </tr>\n",
       "    <tr>\n",
       "      <th>56</th>\n",
       "      <td>1081</td>\n",
       "      <td>1072</td>\n",
       "      <td>1.0</td>\n",
       "      <td>10810</td>\n",
       "      <td>1.0</td>\n",
       "      <td>10720</td>\n",
       "      <td>1.0</td>\n",
       "    </tr>\n",
       "  </tbody>\n",
       "</table>\n",
       "</div>"
      ],
      "text/plain": [
       "   NACE code ISIC code  ISIC code sim. score WZ code  WZ code sim. score  \\\n",
       "28      0150      0150                   1.0   01500                 1.0   \n",
       "30       382       382                   1.0     382                 1.0   \n",
       "31      0610      0610                   1.0   06100                 1.0   \n",
       "50      0610      0610                   1.0   06100                 1.0   \n",
       "56      1081      1072                   1.0   10810                 1.0   \n",
       "\n",
       "      SSIC code  SSIC code sim. score  \n",
       "28        01412                   1.0  \n",
       "30          382                   1.0  \n",
       "31  19201;09001                   0.5  \n",
       "50  19201;09001                   0.5  \n",
       "56        10720                   1.0  "
      ]
     },
     "execution_count": 21,
     "metadata": {},
     "output_type": "execute_result"
    }
   ],
   "source": [
    "maestri_dfs[1].head()"
   ]
  },
  {
   "cell_type": "code",
   "execution_count": 22,
   "metadata": {},
   "outputs": [
    {
     "data": {
      "text/html": [
       "<div>\n",
       "<style scoped>\n",
       "    .dataframe tbody tr th:only-of-type {\n",
       "        vertical-align: middle;\n",
       "    }\n",
       "\n",
       "    .dataframe tbody tr th {\n",
       "        vertical-align: top;\n",
       "    }\n",
       "\n",
       "    .dataframe thead th {\n",
       "        text-align: right;\n",
       "    }\n",
       "</style>\n",
       "<table border=\"1\" class=\"dataframe\">\n",
       "  <thead>\n",
       "    <tr style=\"text-align: right;\">\n",
       "      <th></th>\n",
       "      <th>NACE code</th>\n",
       "      <th>WZ code</th>\n",
       "    </tr>\n",
       "  </thead>\n",
       "  <tbody>\n",
       "    <tr>\n",
       "      <th>0</th>\n",
       "      <td>1920</td>\n",
       "      <td>19200</td>\n",
       "    </tr>\n",
       "    <tr>\n",
       "      <th>1</th>\n",
       "      <td>1920</td>\n",
       "      <td>19200</td>\n",
       "    </tr>\n",
       "    <tr>\n",
       "      <th>2</th>\n",
       "      <td>2410</td>\n",
       "      <td>24520</td>\n",
       "    </tr>\n",
       "    <tr>\n",
       "      <th>3</th>\n",
       "      <td>2410</td>\n",
       "      <td>24520</td>\n",
       "    </tr>\n",
       "    <tr>\n",
       "      <th>4</th>\n",
       "      <td>2351</td>\n",
       "      <td>23510;23650;23610</td>\n",
       "    </tr>\n",
       "    <tr>\n",
       "      <th>...</th>\n",
       "      <td>...</td>\n",
       "      <td>...</td>\n",
       "    </tr>\n",
       "    <tr>\n",
       "      <th>300</th>\n",
       "      <td>1081</td>\n",
       "      <td>10810;01140</td>\n",
       "    </tr>\n",
       "    <tr>\n",
       "      <th>301</th>\n",
       "      <td>1081</td>\n",
       "      <td>10810;01140</td>\n",
       "    </tr>\n",
       "    <tr>\n",
       "      <th>302</th>\n",
       "      <td>1081</td>\n",
       "      <td>10810;01140</td>\n",
       "    </tr>\n",
       "    <tr>\n",
       "      <th>303</th>\n",
       "      <td>261</td>\n",
       "      <td>2051;2052;2053;2059</td>\n",
       "    </tr>\n",
       "    <tr>\n",
       "      <th>304</th>\n",
       "      <td>27</td>\n",
       "      <td>2051;2052;2053;2059</td>\n",
       "    </tr>\n",
       "  </tbody>\n",
       "</table>\n",
       "<p>305 rows × 2 columns</p>\n",
       "</div>"
      ],
      "text/plain": [
       "    NACE code              WZ code\n",
       "0        1920                19200\n",
       "1        1920                19200\n",
       "2        2410                24520\n",
       "3        2410                24520\n",
       "4        2351    23510;23650;23610\n",
       "..        ...                  ...\n",
       "300      1081          10810;01140\n",
       "301      1081          10810;01140\n",
       "302      1081          10810;01140\n",
       "303       261  2051;2052;2053;2059\n",
       "304        27  2051;2052;2053;2059\n",
       "\n",
       "[305 rows x 2 columns]"
      ]
     },
     "execution_count": 22,
     "metadata": {},
     "output_type": "execute_result"
    }
   ],
   "source": [
    "role_index = 0\n",
    "role = NEW_MAESTRI_ROLES[role_index]\n",
    "\n",
    "df = maestri_dfs[role_index]\n",
    "cols = [get_new_code_col(IndustryStandard.NACE), get_new_code_col(IndustryStandard.WZ)]\n",
    "\n",
    "df[cols]"
   ]
  },
  {
   "cell_type": "markdown",
   "metadata": {},
   "source": [
    "### 3. Model performance statistics"
   ]
  },
  {
   "cell_type": "code",
   "execution_count": 23,
   "metadata": {},
   "outputs": [],
   "source": [
    "# Score ategories\n",
    "score_categories = [\"s = 0\", \"0 < s < 1\", \"s = 1\"]\n",
    "\n",
    "# Determine counts for a given series\n",
    "get_counts = lambda f: lambda x: {\n",
    "    \"s = 0\": [len(arr[(arr == 0)]) for arr in f(x)],\n",
    "    \"0 < s < 1\": [len(arr[(arr > 0) & (arr < 1)]) for arr in f(x)],\n",
    "    \"s = 1\": [len(arr[arr == 1]) for arr in f(x)]\n",
    "}\n",
    "\n",
    "# Determine percents for a given series\n",
    "get_percents = lambda f: lambda x: {\n",
    "    \"s = 0\": [len(arr[arr == 0]) / len(arr) for arr in f(x)],\n",
    "    \"0 < s < 1\": [len(arr[(arr > 0) & (arr < 1)]) / len(arr) for arr in f(x)],\n",
    "    \"s = 1\": [len(arr[arr == 1]) / len(arr) for arr in f(x)]\n",
    "}"
   ]
  },
  {
   "cell_type": "markdown",
   "metadata": {},
   "source": [
    "#### By company role and industry classification standard"
   ]
  },
  {
   "cell_type": "code",
   "execution_count": 26,
   "metadata": {},
   "outputs": [],
   "source": [
    "# Function to extract all scores by role\n",
    "scores_by_role = lambda std: [np.array(df[get_similarity_col(std)]) for df in maestri_dfs]\n",
    "\n",
    "# Function to calculate score count breakdown (by role)\n",
    "scores_counts_by_role = get_counts(scores_by_role)\n",
    "\n",
    "# Function to calculate score percentage (by role) breakdown\n",
    "scores_percents_by_role = get_percents(scores_by_role)"
   ]
  },
  {
   "cell_type": "markdown",
   "metadata": {},
   "source": [
    "#### By industry classification standard"
   ]
  },
  {
   "cell_type": "code",
   "execution_count": 27,
   "metadata": {},
   "outputs": [],
   "source": [
    "# Function to extract the scores of a given standard\n",
    "scores_std = lambda std: np.concatenate(scores_by_role(std))\n",
    "\n",
    "# Function to extract the scores of a set of standards\n",
    "scores = lambda stds: [scores_std(std) for std in stds]\n",
    "\n",
    "# Score count breakdown\n",
    "score_counts_dict = get_counts(scores)(NON_NACE_STDS)\n",
    "\n",
    "# Score percentage breakdown\n",
    "score_percents_dict = get_percents(scores)(NON_NACE_STDS)"
   ]
  },
  {
   "cell_type": "markdown",
   "metadata": {},
   "source": [
    "#### Text representation"
   ]
  },
  {
   "cell_type": "code",
   "execution_count": 28,
   "metadata": {},
   "outputs": [
    {
     "name": "stdout",
     "output_type": "stream",
     "text": [
      "ISIC   100.00%\n",
      "  WZ    70.36%\n",
      "SSIC    66.02%\n"
     ]
    }
   ],
   "source": [
    "# Print statistics by ICS\n",
    "score_stats = {std: score_counts_dict[\"s = 1\"][i] / sum([score_counts_dict[cat][i] for cat in score_categories]) for i, std in enumerate(NON_NACE_STDS)}\n",
    "\n",
    "for std in NON_NACE_STDS:\n",
    "    print(\"{0:>4}   {1:>6.2f}%\".format(std.value, score_stats[std] * 100))"
   ]
  },
  {
   "cell_type": "markdown",
   "metadata": {},
   "source": [
    "#### Visualising similarity scores"
   ]
  },
  {
   "cell_type": "code",
   "execution_count": 29,
   "metadata": {},
   "outputs": [],
   "source": [
    "# Bar width for every plot\n",
    "bar_width = 0.3"
   ]
  },
  {
   "cell_type": "markdown",
   "metadata": {},
   "source": [
    "##### By company role and industry classification standard"
   ]
  },
  {
   "cell_type": "code",
   "execution_count": 30,
   "metadata": {},
   "outputs": [],
   "source": [
    "# Create a subplot based on a given ICS\n",
    "def score_subplot(std, ax, is_percent=False):\n",
    "    # Obtain the dictionary with the breakdown of values by similarity score\n",
    "    values_dict = scores_percents_by_role(std) if is_percent else scores_counts_by_role(std)\n",
    "    \n",
    "    # Initial bar heights\n",
    "    bottom = np.zeros(len(values_dict))\n",
    "    \n",
    "    # Looping through each category ('s = 0', '0 < s < 1', 's = 1')\n",
    "    for category, values in values_dict.items():\n",
    "        # Add bars for each category for all roles ('Donor', 'Intermediary', 'Receiver')\n",
    "        ax.bar(NEW_MAESTRI_ROLES, values, bar_width, label=category, bottom=bottom)\n",
    "        \n",
    "        # Increment the base bar heights\n",
    "        bottom += values\n",
    "    \n",
    "    # Set the title of the subplot\n",
    "    ax.set_title(std.value)\n",
    "    \n",
    "    # Rotate the x-ticks by 45 degrees\n",
    "    ax.tick_params(axis=\"x\", labelrotation=45)\n",
    "    \n",
    "    # If the type of plot is a percentage plot,\n",
    "    if is_percent:\n",
    "        # format the y-axis to be percentage values\n",
    "        ax.yaxis.set_major_formatter(mtick.PercentFormatter(xmax=1))"
   ]
  },
  {
   "cell_type": "code",
   "execution_count": 31,
   "metadata": {},
   "outputs": [
    {
     "data": {
      "image/png": "[encoded data removed]",
      "text/plain": [
       "<Figure size 640x480 with 3 Axes>"
      ]
     },
     "metadata": {},
     "output_type": "display_data"
    }
   ],
   "source": [
    "fig, axs = plt.subplots(ncols=len(NON_NACE_STDS))\n",
    "\n",
    "# Add subplots for each standard\n",
    "for std, ax in zip(NON_NACE_STDS, axs):\n",
    "    score_subplot(std, ax)\n",
    "\n",
    "# Add a legend to the figure\n",
    "handles, labels = plt.gca().get_legend_handles_labels()\n",
    "fig.legend(handles, labels, ncol=len(NEW_MAESTRI_ROLES), loc=\"lower center\", bbox_to_anchor=[0.5, -0.05])\n",
    "\n",
    "# Set the title of the figure\n",
    "fig.suptitle(f\"NACE threshold score distribution (t = {DIFF_THRESHOLD})\")\n",
    "\n",
    "# Add enough padding between subplots to prevent overlapping\n",
    "fig.tight_layout()\n",
    "\n",
    "plt.show()"
   ]
  },
  {
   "cell_type": "markdown",
   "metadata": {},
   "source": [
    "##### By industry classification standard"
   ]
  },
  {
   "cell_type": "code",
   "execution_count": 32,
   "metadata": {},
   "outputs": [],
   "source": [
    "# Function to extract the scores of a given standard\n",
    "scores_std = lambda std: np.concatenate(scores_by_role(std))\n",
    "\n",
    "# Function to extract the scores of a set of standards\n",
    "scores = lambda stds: [scores_std(std) for std in stds]\n",
    "\n",
    "# Score count breakdown\n",
    "score_counts_dict = get_counts(scores)(NON_NACE_STDS)\n",
    "\n",
    "# Score percentage breakdown\n",
    "score_percents_dict = get_percents(scores)(NON_NACE_STDS)"
   ]
  },
  {
   "cell_type": "code",
   "execution_count": 33,
   "metadata": {},
   "outputs": [],
   "source": [
    "# Create a subplot based on a given ICS\n",
    "def score_plot(ax, is_percent=False):\n",
    "    # x-axis values\n",
    "    x = [std.value for std in NON_NACE_STDS]\n",
    "    \n",
    "    # Obtain the dictionary with the breakdown of values by similarity score\n",
    "    values_dict = score_percents_dict if is_percent else score_counts_dict\n",
    "    \n",
    "    # Initial bar heights\n",
    "    bottom = np.zeros(len(values_dict))\n",
    "    \n",
    "    # Looping through each category ('s = 0', '0 < s < 1', 's = 1')\n",
    "    for std, values in values_dict.items():\n",
    "        # Add bars for each category for all standards ('ISIC', 'WZ', 'SSIC')\n",
    "        ax.bar(x, values, bar_width, label=std, bottom=bottom)\n",
    "        \n",
    "        # Increment the base bar heights\n",
    "        bottom += values\n",
    "    \n",
    "    # If the type of plot is a percentage plot,\n",
    "    if is_percent:\n",
    "        # format the y-axis to be percentage values\n",
    "        ax.yaxis.set_major_formatter(mtick.PercentFormatter(xmax=1))"
   ]
  },
  {
   "cell_type": "code",
   "execution_count": 34,
   "metadata": {},
   "outputs": [
    {
     "data": {
      "image/png": "[encoded data removed]",
      "text/plain": [
       "<Figure size 640x480 with 1 Axes>"
      ]
     },
     "metadata": {},
     "output_type": "display_data"
    }
   ],
   "source": [
    "fig, ax = plt.subplots()\n",
    "\n",
    "# Add bars to the figure\n",
    "score_plot(ax, is_percent=True)\n",
    "\n",
    "# Add a legend to the figure\n",
    "handles, labels = plt.gca().get_legend_handles_labels()\n",
    "fig.legend(handles, labels, ncol=len(NON_NACE_STDS), loc=\"lower center\", bbox_to_anchor=[0.5, -0.05])\n",
    "\n",
    "# Set the title of the figure\n",
    "fig.suptitle(f\"NACE threshold score distribution (t = {DIFF_THRESHOLD})\")\n",
    "\n",
    "plt.show()"
   ]
  },
  {
   "cell_type": "markdown",
   "metadata": {},
   "source": [
    "### 4. Exporting results to Excel"
   ]
  },
  {
   "cell_type": "code",
   "execution_count": 35,
   "metadata": {},
   "outputs": [],
   "source": [
    "with pd.ExcelWriter(f\"{EXPORTS_PATH}/Exchanges-database Maestri_accuracy.xlsx\") as writer:\n",
    "    for i in range(len(maestri_dfs)):\n",
    "        role = NEW_MAESTRI_ROLES[i]\n",
    "        df = maestri_dfs[i]\n",
    "        \n",
    "        df.to_excel(writer, sheet_name=role, index=False)\n",
    "        worksheet = writer.sheets[role]\n",
    "        workbook = writer.book\n",
    "        \n",
    "        format = workbook.add_format()\n",
    "        format.set_align('left')\n",
    "        format.set_align('vcenter')\n",
    "        \n",
    "        # Loop through all columns\n",
    "        for index, col in enumerate(df):\n",
    "            series = df[col]\n",
    "            max_len = max((\n",
    "                series.astype(str).map(len).max(),  # Length of largest item\n",
    "                len(str(series.name))               # Length of column name/header\n",
    "            ))\n",
    "            \n",
    "            # Set column width\n",
    "            worksheet.set_column(index, index, max_len, format)"
   ]
  }
 ],
 "metadata": {
  "kernelspec": {
   "display_name": "internship",
   "language": "python",
   "name": "python3"
  },
  "language_info": {
   "codemirror_mode": {
    "name": "ipython",
    "version": 3
   },
   "file_extension": ".py",
   "mimetype": "text/x-python",
   "name": "python",
   "nbconvert_exporter": "python",
   "pygments_lexer": "ipython3",
   "version": "3.11.9"
  }
 },
 "nbformat": 4,
 "nbformat_minor": 2
}
