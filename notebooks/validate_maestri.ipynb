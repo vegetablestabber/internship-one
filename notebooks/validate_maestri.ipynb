{
 "cells": [
  {
   "cell_type": "markdown",
   "metadata": {},
   "source": [
    "### 0. Utilities"
   ]
  },
  {
   "cell_type": "markdown",
   "metadata": {},
   "source": [
    "#### Imports"
   ]
  },
  {
   "cell_type": "code",
   "execution_count": 1,
   "metadata": {},
   "outputs": [],
   "source": [
    "import os\n",
    "import sys\n",
    "\n",
    "module_path = os.path.abspath(os.path.join('..'))\n",
    "\n",
    "if module_path not in sys.path:\n",
    "    sys.path.append(module_path)\n",
    "\n",
    "from utils.maestri import (MAESTRI_ROLES, export_maestri, get_maestri_code_col,\n",
    "                           load_maestri)\n",
    "from utils.maestri.graphs import plot_scores_by_role, plot_scores_by_std\n",
    "from utils.maestri.stats import get_similarity_matrix\n",
    "from utils.maestri.validation import validate_maestri\n",
    "from utils.types import IndustryStandard"
   ]
  },
  {
   "cell_type": "markdown",
   "metadata": {},
   "source": [
    "### 1. Reading the MAESTRI dataset"
   ]
  },
  {
   "cell_type": "markdown",
   "metadata": {},
   "source": [
    "#### Importing the spreadsheet"
   ]
  },
  {
   "cell_type": "code",
   "execution_count": 2,
   "metadata": {},
   "outputs": [],
   "source": [
    "# Read the MAESTRI dataset as a DataFrame\n",
    "maestri_dfs = load_maestri()"
   ]
  },
  {
   "cell_type": "code",
   "execution_count": 3,
   "metadata": {},
   "outputs": [
    {
     "data": {
      "text/html": [
       "<div>\n",
       "<style scoped>\n",
       "    .dataframe tbody tr th:only-of-type {\n",
       "        vertical-align: middle;\n",
       "    }\n",
       "\n",
       "    .dataframe tbody tr th {\n",
       "        vertical-align: top;\n",
       "    }\n",
       "\n",
       "    .dataframe thead th {\n",
       "        text-align: right;\n",
       "    }\n",
       "</style>\n",
       "<table border=\"1\" class=\"dataframe\">\n",
       "  <thead>\n",
       "    <tr style=\"text-align: right;\">\n",
       "      <th></th>\n",
       "      <th>Company description</th>\n",
       "      <th>NACE code</th>\n",
       "      <th>ISIC code</th>\n",
       "      <th>WZ code</th>\n",
       "      <th>SSIC code</th>\n",
       "    </tr>\n",
       "    <tr>\n",
       "      <th>Database ID</th>\n",
       "      <th></th>\n",
       "      <th></th>\n",
       "      <th></th>\n",
       "      <th></th>\n",
       "      <th></th>\n",
       "    </tr>\n",
       "  </thead>\n",
       "  <tbody>\n",
       "    <tr>\n",
       "      <th>1,12,4</th>\n",
       "      <td>Refinery</td>\n",
       "      <td>1920</td>\n",
       "      <td>1920</td>\n",
       "      <td>19200</td>\n",
       "      <td>19201</td>\n",
       "    </tr>\n",
       "    <tr>\n",
       "      <th>1,12,5</th>\n",
       "      <td>Refinery</td>\n",
       "      <td>1920</td>\n",
       "      <td>1920</td>\n",
       "      <td>19200</td>\n",
       "      <td>19201</td>\n",
       "    </tr>\n",
       "    <tr>\n",
       "      <th>1,12,10</th>\n",
       "      <td>Steelworks</td>\n",
       "      <td>2410</td>\n",
       "      <td>2410</td>\n",
       "      <td>24520</td>\n",
       "      <td>24310</td>\n",
       "    </tr>\n",
       "    <tr>\n",
       "      <th>1,12,11</th>\n",
       "      <td>Steelworks</td>\n",
       "      <td>2410</td>\n",
       "      <td>2410</td>\n",
       "      <td>24520</td>\n",
       "      <td>24310</td>\n",
       "    </tr>\n",
       "    <tr>\n",
       "      <th>1,12,12</th>\n",
       "      <td>Cement production</td>\n",
       "      <td>2351</td>\n",
       "      <td>2394</td>\n",
       "      <td>23510;23650;23610</td>\n",
       "      <td>23940</td>\n",
       "    </tr>\n",
       "  </tbody>\n",
       "</table>\n",
       "</div>"
      ],
      "text/plain": [
       "            Company description NACE code ISIC code            WZ code  \\\n",
       "Database ID                                                              \n",
       "1,12,4                 Refinery      1920      1920              19200   \n",
       "1,12,5                 Refinery      1920      1920              19200   \n",
       "1,12,10              Steelworks      2410      2410              24520   \n",
       "1,12,11              Steelworks      2410      2410              24520   \n",
       "1,12,12       Cement production      2351      2394  23510;23650;23610   \n",
       "\n",
       "            SSIC code  \n",
       "Database ID            \n",
       "1,12,4          19201  \n",
       "1,12,5          19201  \n",
       "1,12,10         24310  \n",
       "1,12,11         24310  \n",
       "1,12,12         23940  "
      ]
     },
     "execution_count": 3,
     "metadata": {},
     "output_type": "execute_result"
    }
   ],
   "source": [
    "maestri_dfs[0].head()"
   ]
  },
  {
   "cell_type": "markdown",
   "metadata": {},
   "source": [
    "### 2. Obtaining similarity scores for validation"
   ]
  },
  {
   "cell_type": "code",
   "execution_count": 4,
   "metadata": {},
   "outputs": [],
   "source": [
    "maestri_dfs = validate_maestri(maestri_dfs)"
   ]
  },
  {
   "cell_type": "code",
   "execution_count": 5,
   "metadata": {},
   "outputs": [
    {
     "data": {
      "text/html": [
       "<div>\n",
       "<style scoped>\n",
       "    .dataframe tbody tr th:only-of-type {\n",
       "        vertical-align: middle;\n",
       "    }\n",
       "\n",
       "    .dataframe tbody tr th {\n",
       "        vertical-align: top;\n",
       "    }\n",
       "\n",
       "    .dataframe thead th {\n",
       "        text-align: right;\n",
       "    }\n",
       "</style>\n",
       "<table border=\"1\" class=\"dataframe\">\n",
       "  <thead>\n",
       "    <tr style=\"text-align: right;\">\n",
       "      <th></th>\n",
       "      <th>Company description</th>\n",
       "      <th>NACE code</th>\n",
       "      <th>ISIC code</th>\n",
       "      <th>ISIC code sim. score</th>\n",
       "      <th>WZ code</th>\n",
       "      <th>WZ code sim. score</th>\n",
       "      <th>SSIC code</th>\n",
       "      <th>SSIC code sim. score</th>\n",
       "    </tr>\n",
       "    <tr>\n",
       "      <th>Database ID</th>\n",
       "      <th></th>\n",
       "      <th></th>\n",
       "      <th></th>\n",
       "      <th></th>\n",
       "      <th></th>\n",
       "      <th></th>\n",
       "      <th></th>\n",
       "      <th></th>\n",
       "    </tr>\n",
       "  </thead>\n",
       "  <tbody>\n",
       "    <tr>\n",
       "      <th>1,12,4</th>\n",
       "      <td>Refinery</td>\n",
       "      <td>1920</td>\n",
       "      <td>1920</td>\n",
       "      <td>1.0</td>\n",
       "      <td>19200</td>\n",
       "      <td>1.0</td>\n",
       "      <td>19201</td>\n",
       "      <td>1.0</td>\n",
       "    </tr>\n",
       "    <tr>\n",
       "      <th>1,12,5</th>\n",
       "      <td>Refinery</td>\n",
       "      <td>1920</td>\n",
       "      <td>1920</td>\n",
       "      <td>1.0</td>\n",
       "      <td>19200</td>\n",
       "      <td>1.0</td>\n",
       "      <td>19201</td>\n",
       "      <td>1.0</td>\n",
       "    </tr>\n",
       "    <tr>\n",
       "      <th>1,12,10</th>\n",
       "      <td>Steelworks</td>\n",
       "      <td>2410</td>\n",
       "      <td>2410</td>\n",
       "      <td>1.0</td>\n",
       "      <td>24520</td>\n",
       "      <td>0.0</td>\n",
       "      <td>24310</td>\n",
       "      <td>0.0</td>\n",
       "    </tr>\n",
       "    <tr>\n",
       "      <th>1,12,11</th>\n",
       "      <td>Steelworks</td>\n",
       "      <td>2410</td>\n",
       "      <td>2410</td>\n",
       "      <td>1.0</td>\n",
       "      <td>24520</td>\n",
       "      <td>0.0</td>\n",
       "      <td>24310</td>\n",
       "      <td>0.0</td>\n",
       "    </tr>\n",
       "    <tr>\n",
       "      <th>1,12,12</th>\n",
       "      <td>Cement production</td>\n",
       "      <td>2351</td>\n",
       "      <td>2394</td>\n",
       "      <td>1.0</td>\n",
       "      <td>23510;23650;23610</td>\n",
       "      <td>1.0</td>\n",
       "      <td>23940</td>\n",
       "      <td>0.0</td>\n",
       "    </tr>\n",
       "  </tbody>\n",
       "</table>\n",
       "</div>"
      ],
      "text/plain": [
       "            Company description NACE code ISIC code  ISIC code sim. score  \\\n",
       "Database ID                                                                 \n",
       "1,12,4                 Refinery      1920      1920                   1.0   \n",
       "1,12,5                 Refinery      1920      1920                   1.0   \n",
       "1,12,10              Steelworks      2410      2410                   1.0   \n",
       "1,12,11              Steelworks      2410      2410                   1.0   \n",
       "1,12,12       Cement production      2351      2394                   1.0   \n",
       "\n",
       "                       WZ code  WZ code sim. score SSIC code  \\\n",
       "Database ID                                                    \n",
       "1,12,4                   19200                 1.0     19201   \n",
       "1,12,5                   19200                 1.0     19201   \n",
       "1,12,10                  24520                 0.0     24310   \n",
       "1,12,11                  24520                 0.0     24310   \n",
       "1,12,12      23510;23650;23610                 1.0     23940   \n",
       "\n",
       "             SSIC code sim. score  \n",
       "Database ID                        \n",
       "1,12,4                        1.0  \n",
       "1,12,5                        1.0  \n",
       "1,12,10                       0.0  \n",
       "1,12,11                       0.0  \n",
       "1,12,12                       0.0  "
      ]
     },
     "execution_count": 5,
     "metadata": {},
     "output_type": "execute_result"
    }
   ],
   "source": [
    "maestri_dfs[0].head()"
   ]
  },
  {
   "cell_type": "markdown",
   "metadata": {},
   "source": [
    "### 3. Model performance statistics"
   ]
  },
  {
   "cell_type": "markdown",
   "metadata": {},
   "source": [
    "#### Summary"
   ]
  },
  {
   "cell_type": "code",
   "execution_count": 10,
   "metadata": {},
   "outputs": [
    {
     "data": {
      "text/html": [
       "<div>\n",
       "<style scoped>\n",
       "    .dataframe tbody tr th:only-of-type {\n",
       "        vertical-align: middle;\n",
       "    }\n",
       "\n",
       "    .dataframe tbody tr th {\n",
       "        vertical-align: top;\n",
       "    }\n",
       "\n",
       "    .dataframe thead th {\n",
       "        text-align: right;\n",
       "    }\n",
       "</style>\n",
       "<table border=\"1\" class=\"dataframe\">\n",
       "  <thead>\n",
       "    <tr style=\"text-align: right;\">\n",
       "      <th></th>\n",
       "      <th>s = -1</th>\n",
       "      <th>s = 0</th>\n",
       "      <th>0 &lt; s &lt; 1</th>\n",
       "      <th>s = 1</th>\n",
       "    </tr>\n",
       "  </thead>\n",
       "  <tbody>\n",
       "    <tr>\n",
       "      <th>ISIC</th>\n",
       "      <td>0</td>\n",
       "      <td>28</td>\n",
       "      <td>0</td>\n",
       "      <td>640</td>\n",
       "    </tr>\n",
       "    <tr>\n",
       "      <th>WZ</th>\n",
       "      <td>0</td>\n",
       "      <td>258</td>\n",
       "      <td>29</td>\n",
       "      <td>381</td>\n",
       "    </tr>\n",
       "    <tr>\n",
       "      <th>SSIC</th>\n",
       "      <td>0</td>\n",
       "      <td>337</td>\n",
       "      <td>41</td>\n",
       "      <td>290</td>\n",
       "    </tr>\n",
       "  </tbody>\n",
       "</table>\n",
       "</div>"
      ],
      "text/plain": [
       "      s = -1  s = 0  0 < s < 1  s = 1\n",
       "ISIC       0     28          0    640\n",
       "WZ         0    258         29    381\n",
       "SSIC       0    337         41    290"
      ]
     },
     "execution_count": 10,
     "metadata": {},
     "output_type": "execute_result"
    }
   ],
   "source": [
    "get_similarity_matrix(maestri_dfs)"
   ]
  },
  {
   "cell_type": "code",
   "execution_count": 6,
   "metadata": {},
   "outputs": [
    {
     "data": {
      "text/html": [
       "<div>\n",
       "<style scoped>\n",
       "    .dataframe tbody tr th:only-of-type {\n",
       "        vertical-align: middle;\n",
       "    }\n",
       "\n",
       "    .dataframe tbody tr th {\n",
       "        vertical-align: top;\n",
       "    }\n",
       "\n",
       "    .dataframe thead th {\n",
       "        text-align: right;\n",
       "    }\n",
       "</style>\n",
       "<table border=\"1\" class=\"dataframe\">\n",
       "  <thead>\n",
       "    <tr style=\"text-align: right;\">\n",
       "      <th></th>\n",
       "      <th>s = -1</th>\n",
       "      <th>s = 0</th>\n",
       "      <th>0 &lt; s &lt; 1</th>\n",
       "      <th>s = 1</th>\n",
       "    </tr>\n",
       "  </thead>\n",
       "  <tbody>\n",
       "    <tr>\n",
       "      <th>ISIC</th>\n",
       "      <td>0.0</td>\n",
       "      <td>4.191617</td>\n",
       "      <td>0.000000</td>\n",
       "      <td>95.808383</td>\n",
       "    </tr>\n",
       "    <tr>\n",
       "      <th>WZ</th>\n",
       "      <td>0.0</td>\n",
       "      <td>38.622754</td>\n",
       "      <td>4.341317</td>\n",
       "      <td>57.035928</td>\n",
       "    </tr>\n",
       "    <tr>\n",
       "      <th>SSIC</th>\n",
       "      <td>0.0</td>\n",
       "      <td>50.449102</td>\n",
       "      <td>6.137725</td>\n",
       "      <td>43.413174</td>\n",
       "    </tr>\n",
       "  </tbody>\n",
       "</table>\n",
       "</div>"
      ],
      "text/plain": [
       "      s = -1      s = 0  0 < s < 1      s = 1\n",
       "ISIC     0.0   4.191617   0.000000  95.808383\n",
       "WZ       0.0  38.622754   4.341317  57.035928\n",
       "SSIC     0.0  50.449102   6.137725  43.413174"
      ]
     },
     "execution_count": 6,
     "metadata": {},
     "output_type": "execute_result"
    }
   ],
   "source": [
    "get_similarity_matrix(maestri_dfs, is_percent=True) * 100"
   ]
  },
  {
   "cell_type": "markdown",
   "metadata": {},
   "source": [
    "#### Visualising similarity scores"
   ]
  },
  {
   "cell_type": "markdown",
   "metadata": {},
   "source": [
    "##### By company role and industry classification standard"
   ]
  },
  {
   "cell_type": "code",
   "execution_count": 7,
   "metadata": {},
   "outputs": [
    {
     "data": {
      "image/png": "[encoded data removed]",
      "text/plain": [
       "<Figure size 640x480 with 3 Axes>"
      ]
     },
     "metadata": {},
     "output_type": "display_data"
    }
   ],
   "source": [
    "plot_scores_by_role(maestri_dfs)"
   ]
  },
  {
   "cell_type": "markdown",
   "metadata": {},
   "source": [
    "##### By industry classification standard"
   ]
  },
  {
   "cell_type": "code",
   "execution_count": 8,
   "metadata": {},
   "outputs": [
    {
     "data": {
      "image/png": "[encoded data removed]",
      "text/plain": [
       "<Figure size 640x480 with 1 Axes>"
      ]
     },
     "metadata": {},
     "output_type": "display_data"
    }
   ],
   "source": [
    "plot_scores_by_std(maestri_dfs)"
   ]
  },
  {
   "cell_type": "markdown",
   "metadata": {},
   "source": [
    "### 4. Exporting results to Excel"
   ]
  },
  {
   "cell_type": "code",
   "execution_count": 9,
   "metadata": {},
   "outputs": [],
   "source": [
    "export_maestri(maestri_dfs)"
   ]
  }
 ],
 "metadata": {
  "kernelspec": {
   "display_name": "internship",
   "language": "python",
   "name": "python3"
  },
  "language_info": {
   "codemirror_mode": {
    "name": "ipython",
    "version": 3
   },
   "file_extension": ".py",
   "mimetype": "text/x-python",
   "name": "python",
   "nbconvert_exporter": "python",
   "pygments_lexer": "ipython3",
   "version": "3.11.9"
  }
 },
 "nbformat": 4,
 "nbformat_minor": 2
}
