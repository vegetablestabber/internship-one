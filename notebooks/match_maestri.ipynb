{
 "cells": [
  {
   "cell_type": "markdown",
   "metadata": {},
   "source": [
    "### 0. Utilities"
   ]
  },
  {
   "cell_type": "markdown",
   "metadata": {},
   "source": [
    "#### Imports"
   ]
  },
  {
   "cell_type": "code",
   "execution_count": 1,
   "metadata": {},
   "outputs": [],
   "source": [
    "import os\n",
    "import sys\n",
    "\n",
    "module_path = os.path.abspath(os.path.join('..'))\n",
    "\n",
    "if module_path not in sys.path:\n",
    "    sys.path.append(module_path)\n",
    "\n",
    "from utils.maestri.industry.graphs import (plot_scores_by_role,\n",
    "                                           plot_scores_by_std)\n",
    "from utils.maestri.industry.match import classify_maestri_companies\n",
    "from utils.maestri.industry.stats import get_similarity_summary\n",
    "from utils.maestri.industry.validation import (\n",
    "    clear_dissimilar_maestri_industry_matches, validate_maestri_companies)\n",
    "from utils.maestri.io import export_maestri_to_excel, load_maestri"
   ]
  },
  {
   "cell_type": "markdown",
   "metadata": {},
   "source": [
    "### 1. Reading the MAESTRI dataset"
   ]
  },
  {
   "cell_type": "markdown",
   "metadata": {},
   "source": [
    "#### Importing the spreadsheet"
   ]
  },
  {
   "cell_type": "code",
   "execution_count": 2,
   "metadata": {},
   "outputs": [],
   "source": [
    "maestri_dfs = load_maestri()"
   ]
  },
  {
   "cell_type": "code",
   "execution_count": 3,
   "metadata": {},
   "outputs": [
    {
     "data": {
      "text/html": [
       "<div>\n",
       "<style scoped>\n",
       "    .dataframe tbody tr th:only-of-type {\n",
       "        vertical-align: middle;\n",
       "    }\n",
       "\n",
       "    .dataframe tbody tr th {\n",
       "        vertical-align: top;\n",
       "    }\n",
       "\n",
       "    .dataframe thead th {\n",
       "        text-align: right;\n",
       "    }\n",
       "</style>\n",
       "<table border=\"1\" class=\"dataframe\">\n",
       "  <thead>\n",
       "    <tr style=\"text-align: right;\">\n",
       "      <th></th>\n",
       "      <th>Company description</th>\n",
       "      <th>NACE code</th>\n",
       "      <th>ISIC code</th>\n",
       "      <th>WZ code</th>\n",
       "      <th>SSIC code</th>\n",
       "    </tr>\n",
       "    <tr>\n",
       "      <th>Database ID</th>\n",
       "      <th></th>\n",
       "      <th></th>\n",
       "      <th></th>\n",
       "      <th></th>\n",
       "      <th></th>\n",
       "    </tr>\n",
       "  </thead>\n",
       "  <tbody>\n",
       "    <tr>\n",
       "      <th>5,25,14</th>\n",
       "      <td>Local farms</td>\n",
       "      <td>0150</td>\n",
       "      <td>0150</td>\n",
       "      <td>01500</td>\n",
       "      <td>01412</td>\n",
       "    </tr>\n",
       "    <tr>\n",
       "      <th>8,35,4</th>\n",
       "      <td>Incineration and sanitary landfill</td>\n",
       "      <td>382</td>\n",
       "      <td>382</td>\n",
       "      <td>382</td>\n",
       "      <td>382</td>\n",
       "    </tr>\n",
       "    <tr>\n",
       "      <th>6,21,10</th>\n",
       "      <td>Petroleum exctaction</td>\n",
       "      <td>0610</td>\n",
       "      <td>0610</td>\n",
       "      <td>06100</td>\n",
       "      <td>19201;09001</td>\n",
       "    </tr>\n",
       "    <tr>\n",
       "      <th>6,21,11</th>\n",
       "      <td>Petroleum exctaction</td>\n",
       "      <td>0610</td>\n",
       "      <td>0610</td>\n",
       "      <td>06100</td>\n",
       "      <td>19201;09001</td>\n",
       "    </tr>\n",
       "    <tr>\n",
       "      <th>10,39,5</th>\n",
       "      <td>Sugar refinery</td>\n",
       "      <td>1081</td>\n",
       "      <td>1072</td>\n",
       "      <td>10810</td>\n",
       "      <td>10720</td>\n",
       "    </tr>\n",
       "  </tbody>\n",
       "</table>\n",
       "</div>"
      ],
      "text/plain": [
       "                            Company description NACE code ISIC code WZ code  \\\n",
       "Database ID                                                                   \n",
       "5,25,14                             Local farms      0150      0150   01500   \n",
       "8,35,4       Incineration and sanitary landfill       382       382     382   \n",
       "6,21,10                    Petroleum exctaction      0610      0610   06100   \n",
       "6,21,11                    Petroleum exctaction      0610      0610   06100   \n",
       "10,39,5                          Sugar refinery      1081      1072   10810   \n",
       "\n",
       "               SSIC code  \n",
       "Database ID               \n",
       "5,25,14            01412  \n",
       "8,35,4               382  \n",
       "6,21,10      19201;09001  \n",
       "6,21,11      19201;09001  \n",
       "10,39,5            10720  "
      ]
     },
     "execution_count": 3,
     "metadata": {},
     "output_type": "execute_result"
    }
   ],
   "source": [
    "maestri_dfs[1].head()"
   ]
  },
  {
   "cell_type": "markdown",
   "metadata": {},
   "source": [
    "### 2. Obtaining similarity scores for validation"
   ]
  },
  {
   "cell_type": "code",
   "execution_count": 4,
   "metadata": {},
   "outputs": [],
   "source": [
    "maestri_dfs = validate_maestri_companies(maestri_dfs)"
   ]
  },
  {
   "cell_type": "code",
   "execution_count": 5,
   "metadata": {},
   "outputs": [],
   "source": [
    "test_dfs = [df.copy() for df in maestri_dfs]"
   ]
  },
  {
   "cell_type": "code",
   "execution_count": 6,
   "metadata": {},
   "outputs": [],
   "source": [
    "test_dfs = clear_dissimilar_maestri_industry_matches(test_dfs)"
   ]
  },
  {
   "cell_type": "code",
   "execution_count": 7,
   "metadata": {},
   "outputs": [
    {
     "data": {
      "text/html": [
       "<div>\n",
       "<style scoped>\n",
       "    .dataframe tbody tr th:only-of-type {\n",
       "        vertical-align: middle;\n",
       "    }\n",
       "\n",
       "    .dataframe tbody tr th {\n",
       "        vertical-align: top;\n",
       "    }\n",
       "\n",
       "    .dataframe thead th {\n",
       "        text-align: right;\n",
       "    }\n",
       "</style>\n",
       "<table border=\"1\" class=\"dataframe\">\n",
       "  <thead>\n",
       "    <tr style=\"text-align: right;\">\n",
       "      <th></th>\n",
       "      <th>Company description</th>\n",
       "      <th>NACE code</th>\n",
       "      <th>ISIC code</th>\n",
       "      <th>ISIC code sim. score</th>\n",
       "      <th>WZ code</th>\n",
       "      <th>WZ code sim. score</th>\n",
       "      <th>SSIC code</th>\n",
       "      <th>SSIC code sim. score</th>\n",
       "    </tr>\n",
       "    <tr>\n",
       "      <th>Database ID</th>\n",
       "      <th></th>\n",
       "      <th></th>\n",
       "      <th></th>\n",
       "      <th></th>\n",
       "      <th></th>\n",
       "      <th></th>\n",
       "      <th></th>\n",
       "      <th></th>\n",
       "    </tr>\n",
       "  </thead>\n",
       "  <tbody>\n",
       "    <tr>\n",
       "      <th>5,25,14</th>\n",
       "      <td>Local farms</td>\n",
       "      <td>0150</td>\n",
       "      <td>0150</td>\n",
       "      <td>1.0</td>\n",
       "      <td>01500</td>\n",
       "      <td>1.0</td>\n",
       "      <td>01412</td>\n",
       "      <td>1.0</td>\n",
       "    </tr>\n",
       "    <tr>\n",
       "      <th>8,35,4</th>\n",
       "      <td>Incineration and sanitary landfill</td>\n",
       "      <td>382</td>\n",
       "      <td>382</td>\n",
       "      <td>1.0</td>\n",
       "      <td>382</td>\n",
       "      <td>1.0</td>\n",
       "      <td>382</td>\n",
       "      <td>1.0</td>\n",
       "    </tr>\n",
       "    <tr>\n",
       "      <th>6,21,10</th>\n",
       "      <td>Petroleum exctaction</td>\n",
       "      <td>0610</td>\n",
       "      <td>0610</td>\n",
       "      <td>1.0</td>\n",
       "      <td>06100</td>\n",
       "      <td>1.0</td>\n",
       "      <td></td>\n",
       "      <td>-1.0</td>\n",
       "    </tr>\n",
       "    <tr>\n",
       "      <th>6,21,11</th>\n",
       "      <td>Petroleum exctaction</td>\n",
       "      <td>0610</td>\n",
       "      <td>0610</td>\n",
       "      <td>1.0</td>\n",
       "      <td>06100</td>\n",
       "      <td>1.0</td>\n",
       "      <td></td>\n",
       "      <td>-1.0</td>\n",
       "    </tr>\n",
       "    <tr>\n",
       "      <th>10,39,5</th>\n",
       "      <td>Sugar refinery</td>\n",
       "      <td>1081</td>\n",
       "      <td>1072</td>\n",
       "      <td>1.0</td>\n",
       "      <td>10810</td>\n",
       "      <td>1.0</td>\n",
       "      <td>10720</td>\n",
       "      <td>1.0</td>\n",
       "    </tr>\n",
       "  </tbody>\n",
       "</table>\n",
       "</div>"
      ],
      "text/plain": [
       "                            Company description NACE code ISIC code  \\\n",
       "Database ID                                                           \n",
       "5,25,14                             Local farms      0150      0150   \n",
       "8,35,4       Incineration and sanitary landfill       382       382   \n",
       "6,21,10                    Petroleum exctaction      0610      0610   \n",
       "6,21,11                    Petroleum exctaction      0610      0610   \n",
       "10,39,5                          Sugar refinery      1081      1072   \n",
       "\n",
       "             ISIC code sim. score WZ code  WZ code sim. score SSIC code  \\\n",
       "Database ID                                                               \n",
       "5,25,14                       1.0   01500                 1.0     01412   \n",
       "8,35,4                        1.0     382                 1.0       382   \n",
       "6,21,10                       1.0   06100                 1.0             \n",
       "6,21,11                       1.0   06100                 1.0             \n",
       "10,39,5                       1.0   10810                 1.0     10720   \n",
       "\n",
       "             SSIC code sim. score  \n",
       "Database ID                        \n",
       "5,25,14                       1.0  \n",
       "8,35,4                        1.0  \n",
       "6,21,10                      -1.0  \n",
       "6,21,11                      -1.0  \n",
       "10,39,5                       1.0  "
      ]
     },
     "execution_count": 7,
     "metadata": {},
     "output_type": "execute_result"
    }
   ],
   "source": [
    "test_dfs[1].head()"
   ]
  },
  {
   "cell_type": "code",
   "execution_count": 8,
   "metadata": {},
   "outputs": [
    {
     "name": "stderr",
     "output_type": "stream",
     "text": [
      "   Providing companies: NACE -> ISIC: 100%|██████████| 305/305 [00:00<00:00, 35809.62it/s]"
     ]
    },
    {
     "name": "stderr",
     "output_type": "stream",
     "text": [
      "\n",
      "   Providing companies: NACE -> WZ  : 100%|██████████| 305/305 [02:32<00:00,  2.00it/s]\n",
      "   Providing companies: NACE -> SSIC: 100%|██████████| 305/305 [04:31<00:00,  1.12it/s]\n",
      "Intermediate companies: NACE -> ISIC: 100%|██████████| 58/58 [00:00<00:00, 28984.82it/s]\n",
      "Intermediate companies: NACE -> WZ  : 100%|██████████| 58/58 [00:38<00:00,  1.49it/s]\n",
      "Intermediate companies: NACE -> SSIC: 100%|██████████| 58/58 [00:54<00:00,  1.06it/s]\n",
      "   Receiving companies: NACE -> ISIC: 100%|██████████| 305/305 [00:00<00:00, 33745.62it/s]\n",
      "   Receiving companies: NACE -> WZ  : 100%|██████████| 305/305 [02:53<00:00,  1.76it/s]\n",
      "   Receiving companies: NACE -> SSIC: 100%|██████████| 305/305 [06:36<00:00,  1.30s/it]\n"
     ]
    }
   ],
   "source": [
    "test_dfs = classify_maestri_companies(test_dfs)"
   ]
  },
  {
   "cell_type": "code",
   "execution_count": 9,
   "metadata": {},
   "outputs": [],
   "source": [
    "test_dfs = validate_maestri_companies(test_dfs)"
   ]
  },
  {
   "cell_type": "code",
   "execution_count": 10,
   "metadata": {},
   "outputs": [
    {
     "data": {
      "text/html": [
       "<div>\n",
       "<style scoped>\n",
       "    .dataframe tbody tr th:only-of-type {\n",
       "        vertical-align: middle;\n",
       "    }\n",
       "\n",
       "    .dataframe tbody tr th {\n",
       "        vertical-align: top;\n",
       "    }\n",
       "\n",
       "    .dataframe thead th {\n",
       "        text-align: right;\n",
       "    }\n",
       "</style>\n",
       "<table border=\"1\" class=\"dataframe\">\n",
       "  <thead>\n",
       "    <tr style=\"text-align: right;\">\n",
       "      <th></th>\n",
       "      <th>Company description</th>\n",
       "      <th>NACE code</th>\n",
       "      <th>ISIC code</th>\n",
       "      <th>ISIC code sim. score</th>\n",
       "      <th>WZ code</th>\n",
       "      <th>WZ code sim. score</th>\n",
       "      <th>SSIC code</th>\n",
       "      <th>SSIC code sim. score</th>\n",
       "    </tr>\n",
       "    <tr>\n",
       "      <th>Database ID</th>\n",
       "      <th></th>\n",
       "      <th></th>\n",
       "      <th></th>\n",
       "      <th></th>\n",
       "      <th></th>\n",
       "      <th></th>\n",
       "      <th></th>\n",
       "      <th></th>\n",
       "    </tr>\n",
       "  </thead>\n",
       "  <tbody>\n",
       "    <tr>\n",
       "      <th>5,25,14</th>\n",
       "      <td>Local farms</td>\n",
       "      <td>0150</td>\n",
       "      <td>0150</td>\n",
       "      <td>1.0</td>\n",
       "      <td>01500</td>\n",
       "      <td>1.0</td>\n",
       "      <td>01412</td>\n",
       "      <td>1.0</td>\n",
       "    </tr>\n",
       "    <tr>\n",
       "      <th>8,35,4</th>\n",
       "      <td>Incineration and sanitary landfill</td>\n",
       "      <td>382</td>\n",
       "      <td>382</td>\n",
       "      <td>1.0</td>\n",
       "      <td>382</td>\n",
       "      <td>1.0</td>\n",
       "      <td>382</td>\n",
       "      <td>1.0</td>\n",
       "    </tr>\n",
       "    <tr>\n",
       "      <th>6,21,10</th>\n",
       "      <td>Petroleum exctaction</td>\n",
       "      <td>0610</td>\n",
       "      <td>0610</td>\n",
       "      <td>1.0</td>\n",
       "      <td>06100</td>\n",
       "      <td>1.0</td>\n",
       "      <td>09001</td>\n",
       "      <td>0.0</td>\n",
       "    </tr>\n",
       "    <tr>\n",
       "      <th>6,21,11</th>\n",
       "      <td>Petroleum exctaction</td>\n",
       "      <td>0610</td>\n",
       "      <td>0610</td>\n",
       "      <td>1.0</td>\n",
       "      <td>06100</td>\n",
       "      <td>1.0</td>\n",
       "      <td>09001</td>\n",
       "      <td>0.0</td>\n",
       "    </tr>\n",
       "    <tr>\n",
       "      <th>10,39,5</th>\n",
       "      <td>Sugar refinery</td>\n",
       "      <td>1081</td>\n",
       "      <td>1072</td>\n",
       "      <td>1.0</td>\n",
       "      <td>10810</td>\n",
       "      <td>1.0</td>\n",
       "      <td>10720</td>\n",
       "      <td>1.0</td>\n",
       "    </tr>\n",
       "  </tbody>\n",
       "</table>\n",
       "</div>"
      ],
      "text/plain": [
       "                            Company description NACE code ISIC code  \\\n",
       "Database ID                                                           \n",
       "5,25,14                             Local farms      0150      0150   \n",
       "8,35,4       Incineration and sanitary landfill       382       382   \n",
       "6,21,10                    Petroleum exctaction      0610      0610   \n",
       "6,21,11                    Petroleum exctaction      0610      0610   \n",
       "10,39,5                          Sugar refinery      1081      1072   \n",
       "\n",
       "             ISIC code sim. score WZ code  WZ code sim. score SSIC code  \\\n",
       "Database ID                                                               \n",
       "5,25,14                       1.0   01500                 1.0     01412   \n",
       "8,35,4                        1.0     382                 1.0       382   \n",
       "6,21,10                       1.0   06100                 1.0     09001   \n",
       "6,21,11                       1.0   06100                 1.0     09001   \n",
       "10,39,5                       1.0   10810                 1.0     10720   \n",
       "\n",
       "             SSIC code sim. score  \n",
       "Database ID                        \n",
       "5,25,14                       1.0  \n",
       "8,35,4                        1.0  \n",
       "6,21,10                       0.0  \n",
       "6,21,11                       0.0  \n",
       "10,39,5                       1.0  "
      ]
     },
     "execution_count": 10,
     "metadata": {},
     "output_type": "execute_result"
    }
   ],
   "source": [
    "test_dfs[1].head()"
   ]
  },
  {
   "cell_type": "markdown",
   "metadata": {},
   "source": [
    "### 3. Model performance statistics"
   ]
  },
  {
   "cell_type": "markdown",
   "metadata": {},
   "source": [
    "#### Summary"
   ]
  },
  {
   "cell_type": "code",
   "execution_count": 11,
   "metadata": {},
   "outputs": [
    {
     "data": {
      "text/html": [
       "<div>\n",
       "<style scoped>\n",
       "    .dataframe tbody tr th:only-of-type {\n",
       "        vertical-align: middle;\n",
       "    }\n",
       "\n",
       "    .dataframe tbody tr th {\n",
       "        vertical-align: top;\n",
       "    }\n",
       "\n",
       "    .dataframe thead th {\n",
       "        text-align: right;\n",
       "    }\n",
       "</style>\n",
       "<table border=\"1\" class=\"dataframe\">\n",
       "  <thead>\n",
       "    <tr style=\"text-align: right;\">\n",
       "      <th></th>\n",
       "      <th>s = -1</th>\n",
       "      <th>s = 0</th>\n",
       "      <th>0 &lt; s &lt; 1</th>\n",
       "      <th>s = 1</th>\n",
       "    </tr>\n",
       "  </thead>\n",
       "  <tbody>\n",
       "    <tr>\n",
       "      <th>ISIC</th>\n",
       "      <td>0</td>\n",
       "      <td>0</td>\n",
       "      <td>0</td>\n",
       "      <td>668</td>\n",
       "    </tr>\n",
       "    <tr>\n",
       "      <th>WZ</th>\n",
       "      <td>0</td>\n",
       "      <td>0</td>\n",
       "      <td>0</td>\n",
       "      <td>668</td>\n",
       "    </tr>\n",
       "    <tr>\n",
       "      <th>SSIC</th>\n",
       "      <td>0</td>\n",
       "      <td>131</td>\n",
       "      <td>0</td>\n",
       "      <td>537</td>\n",
       "    </tr>\n",
       "  </tbody>\n",
       "</table>\n",
       "</div>"
      ],
      "text/plain": [
       "      s = -1  s = 0  0 < s < 1  s = 1\n",
       "ISIC       0      0          0    668\n",
       "WZ         0      0          0    668\n",
       "SSIC       0    131          0    537"
      ]
     },
     "execution_count": 11,
     "metadata": {},
     "output_type": "execute_result"
    }
   ],
   "source": [
    "get_similarity_summary(test_dfs)"
   ]
  },
  {
   "cell_type": "code",
   "execution_count": 12,
   "metadata": {},
   "outputs": [
    {
     "data": {
      "text/html": [
       "<div>\n",
       "<style scoped>\n",
       "    .dataframe tbody tr th:only-of-type {\n",
       "        vertical-align: middle;\n",
       "    }\n",
       "\n",
       "    .dataframe tbody tr th {\n",
       "        vertical-align: top;\n",
       "    }\n",
       "\n",
       "    .dataframe thead th {\n",
       "        text-align: right;\n",
       "    }\n",
       "</style>\n",
       "<table border=\"1\" class=\"dataframe\">\n",
       "  <thead>\n",
       "    <tr style=\"text-align: right;\">\n",
       "      <th></th>\n",
       "      <th>s = -1</th>\n",
       "      <th>s = 0</th>\n",
       "      <th>0 &lt; s &lt; 1</th>\n",
       "      <th>s = 1</th>\n",
       "    </tr>\n",
       "  </thead>\n",
       "  <tbody>\n",
       "    <tr>\n",
       "      <th>ISIC</th>\n",
       "      <td>0.0</td>\n",
       "      <td>0.000000</td>\n",
       "      <td>0.0</td>\n",
       "      <td>100.000000</td>\n",
       "    </tr>\n",
       "    <tr>\n",
       "      <th>WZ</th>\n",
       "      <td>0.0</td>\n",
       "      <td>0.000000</td>\n",
       "      <td>0.0</td>\n",
       "      <td>100.000000</td>\n",
       "    </tr>\n",
       "    <tr>\n",
       "      <th>SSIC</th>\n",
       "      <td>0.0</td>\n",
       "      <td>19.610778</td>\n",
       "      <td>0.0</td>\n",
       "      <td>80.389222</td>\n",
       "    </tr>\n",
       "  </tbody>\n",
       "</table>\n",
       "</div>"
      ],
      "text/plain": [
       "      s = -1      s = 0  0 < s < 1       s = 1\n",
       "ISIC     0.0   0.000000        0.0  100.000000\n",
       "WZ       0.0   0.000000        0.0  100.000000\n",
       "SSIC     0.0  19.610778        0.0   80.389222"
      ]
     },
     "execution_count": 12,
     "metadata": {},
     "output_type": "execute_result"
    }
   ],
   "source": [
    "get_similarity_summary(test_dfs, is_fraction=True) * 100"
   ]
  },
  {
   "cell_type": "markdown",
   "metadata": {},
   "source": [
    "#### Visualising similarity scores"
   ]
  },
  {
   "cell_type": "markdown",
   "metadata": {},
   "source": [
    "##### By company role and industry classification standard"
   ]
  },
  {
   "cell_type": "code",
   "execution_count": 13,
   "metadata": {},
   "outputs": [
    {
     "data": {
      "image/png": "[encoded data removed]",
      "text/plain": [
       "<Figure size 640x480 with 3 Axes>"
      ]
     },
     "metadata": {},
     "output_type": "display_data"
    }
   ],
   "source": [
    "plot_scores_by_role(test_dfs)"
   ]
  },
  {
   "cell_type": "markdown",
   "metadata": {},
   "source": [
    "##### By industry classification standard"
   ]
  },
  {
   "cell_type": "code",
   "execution_count": 14,
   "metadata": {},
   "outputs": [
    {
     "data": {
      "image/png": "[encoded data removed]",
      "text/plain": [
       "<Figure size 640x480 with 1 Axes>"
      ]
     },
     "metadata": {},
     "output_type": "display_data"
    }
   ],
   "source": [
    "plot_scores_by_std(test_dfs)"
   ]
  },
  {
   "cell_type": "markdown",
   "metadata": {},
   "source": [
    "### 4. Exporting results to Excel"
   ]
  },
  {
   "cell_type": "code",
   "execution_count": 15,
   "metadata": {},
   "outputs": [],
   "source": [
    "export_maestri_to_excel(test_dfs, suffix=\"new\")"
   ]
  }
 ],
 "metadata": {
  "kernelspec": {
   "display_name": "internship",
   "language": "python",
   "name": "python3"
  },
  "language_info": {
   "codemirror_mode": {
    "name": "ipython",
    "version": 3
   },
   "file_extension": ".py",
   "mimetype": "text/x-python",
   "name": "python",
   "nbconvert_exporter": "python",
   "pygments_lexer": "ipython3",
   "version": "3.11.9"
  }
 },
 "nbformat": 4,
 "nbformat_minor": 2
}
