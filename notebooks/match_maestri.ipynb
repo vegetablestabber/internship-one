{
 "cells": [
  {
   "cell_type": "code",
   "execution_count": 1,
   "metadata": {},
   "outputs": [],
   "source": [
    "# Import MAESTRI dataset\n",
    "\n",
    "# Import correspondence tables\n",
    "\n",
    "# Match ISIC, WZ and SSIC codes to NACE codes\n",
    "\n",
    "## ISIC doesn't need NLP\n",
    "\n",
    "## WZ and SSIC have multiple codes for a given NACE code\n",
    "\n",
    "### Use a LLM to find the best match given extra info"
   ]
  },
  {
   "cell_type": "markdown",
   "metadata": {},
   "source": [
    "### 0. Utilities"
   ]
  },
  {
   "cell_type": "markdown",
   "metadata": {},
   "source": [
    "#### Imports"
   ]
  },
  {
   "cell_type": "code",
   "execution_count": 2,
   "metadata": {},
   "outputs": [],
   "source": [
    "import numpy as np\n",
    "import pandas as pd\n",
    "import re\n",
    "import ollama\n",
    "import json\n",
    "import matplotlib.pyplot as plt\n",
    "import matplotlib.ticker as mtick"
   ]
  },
  {
   "cell_type": "code",
   "execution_count": 3,
   "metadata": {},
   "outputs": [],
   "source": [
    "import os\n",
    "import sys\n",
    "\n",
    "module_path = os.path.abspath(os.path.join('..'))\n",
    "\n",
    "if module_path not in sys.path:\n",
    "    sys.path.append(module_path)\n",
    "\n",
    "from utils.constants import DIFF_THRESHOLD, EXPORTS_PATH\n",
    "from utils.types import IndustryStandard, IndustryCode\n",
    "from utils.inference import read_inference\n",
    "from utils.maestri import read_maestri, NON_NACE_STDS, MAESTRI_ROLES, get_maestri_code_col, MAESTRI_DESC_COL\n",
    "from utils.similarity import str_to_codes, get_similarity, get_similarity_col"
   ]
  },
  {
   "cell_type": "code",
   "execution_count": 4,
   "metadata": {},
   "outputs": [],
   "source": [
    "class NACECompany:\n",
    "    def __init__(self, code: str, desc: str):\n",
    "        self.code = IndustryCode(IndustryStandard.NACE, code)\n",
    "        self.description = desc"
   ]
  },
  {
   "cell_type": "markdown",
   "metadata": {},
   "source": [
    "### 1. Reading the MAESTRI dataset"
   ]
  },
  {
   "cell_type": "markdown",
   "metadata": {},
   "source": [
    "#### Importing the spreadsheet"
   ]
  },
  {
   "cell_type": "code",
   "execution_count": 5,
   "metadata": {},
   "outputs": [],
   "source": [
    "inference_dfs = read_inference()\n",
    "NACE_df = inference_dfs[IndustryStandard.NACE]"
   ]
  },
  {
   "cell_type": "code",
   "execution_count": 6,
   "metadata": {},
   "outputs": [],
   "source": [
    "# Read the MAESTRI dataset as a DataFrame\n",
    "maestri_dfs = read_maestri()\n",
    "\n",
    "def simplify_nace_code_str(string):\n",
    "    if \",\" in string:\n",
    "        return string.split(\",\")[0]\n",
    "    \n",
    "    return string.split(\";\")[0]\n",
    "\n",
    "for i in range(len(MAESTRI_ROLES)):\n",
    "    role = MAESTRI_ROLES\n",
    "    nace_col = get_maestri_code_col(IndustryStandard.NACE)\n",
    "\n",
    "    maestri_dfs[i][nace_col] = maestri_dfs[i][nace_col].map(simplify_nace_code_str)"
   ]
  },
  {
   "cell_type": "code",
   "execution_count": 7,
   "metadata": {},
   "outputs": [
    {
     "data": {
      "text/html": [
       "<div>\n",
       "<style scoped>\n",
       "    .dataframe tbody tr th:only-of-type {\n",
       "        vertical-align: middle;\n",
       "    }\n",
       "\n",
       "    .dataframe tbody tr th {\n",
       "        vertical-align: top;\n",
       "    }\n",
       "\n",
       "    .dataframe thead th {\n",
       "        text-align: right;\n",
       "    }\n",
       "</style>\n",
       "<table border=\"1\" class=\"dataframe\">\n",
       "  <thead>\n",
       "    <tr style=\"text-align: right;\">\n",
       "      <th></th>\n",
       "      <th>Company description</th>\n",
       "      <th>NACE code</th>\n",
       "      <th>ISIC code</th>\n",
       "      <th>WZ code</th>\n",
       "      <th>SSIC code</th>\n",
       "    </tr>\n",
       "  </thead>\n",
       "  <tbody>\n",
       "    <tr>\n",
       "      <th>0</th>\n",
       "      <td>Refinery</td>\n",
       "      <td>1920</td>\n",
       "      <td>1920</td>\n",
       "      <td>19200</td>\n",
       "      <td>19201</td>\n",
       "    </tr>\n",
       "    <tr>\n",
       "      <th>1</th>\n",
       "      <td>Refinery</td>\n",
       "      <td>1920</td>\n",
       "      <td>1920</td>\n",
       "      <td>19200</td>\n",
       "      <td>19201</td>\n",
       "    </tr>\n",
       "    <tr>\n",
       "      <th>2</th>\n",
       "      <td>Steelworks</td>\n",
       "      <td>2410</td>\n",
       "      <td>2410</td>\n",
       "      <td>24520</td>\n",
       "      <td>24310</td>\n",
       "    </tr>\n",
       "    <tr>\n",
       "      <th>3</th>\n",
       "      <td>Steelworks</td>\n",
       "      <td>2410</td>\n",
       "      <td>2410</td>\n",
       "      <td>24520</td>\n",
       "      <td>24310</td>\n",
       "    </tr>\n",
       "    <tr>\n",
       "      <th>4</th>\n",
       "      <td>Cement production</td>\n",
       "      <td>2351</td>\n",
       "      <td>2394</td>\n",
       "      <td>23510;23650;23610</td>\n",
       "      <td>23940</td>\n",
       "    </tr>\n",
       "  </tbody>\n",
       "</table>\n",
       "</div>"
      ],
      "text/plain": [
       "  Company description NACE code ISIC code            WZ code SSIC code\n",
       "0            Refinery      1920      1920              19200     19201\n",
       "1            Refinery      1920      1920              19200     19201\n",
       "2          Steelworks      2410      2410              24520     24310\n",
       "3          Steelworks      2410      2410              24520     24310\n",
       "4   Cement production      2351      2394  23510;23650;23610     23940"
      ]
     },
     "execution_count": 7,
     "metadata": {},
     "output_type": "execute_result"
    }
   ],
   "source": [
    "maestri_dfs[0].head()"
   ]
  },
  {
   "cell_type": "code",
   "execution_count": 9,
   "metadata": {},
   "outputs": [],
   "source": [
    "def get_level(code) -> int:\n",
    "    df = inference_dfs[code.std]\n",
    "    \n",
    "    if code.value in df.index:\n",
    "        return df.loc[code.value, \"Level\"]\n",
    "\n",
    "    return None\n",
    "\n",
    "def get_children(code):\n",
    "    df = inference_dfs[code.std]\n",
    "    \n",
    "    if code.value == \"\" or code.value in df.index:\n",
    "        return [IndustryCode(code.std, value) for value in df[df[\"Parent\"] == code.value].index]\n",
    "\n",
    "    return []\n",
    "\n",
    "def get_parent(code, level=-1):\n",
    "    df = inference_dfs[code.std]\n",
    "    \n",
    "    if code.value in df.index:\n",
    "        l = df.loc[code.value, \"Level\"]\n",
    "\n",
    "        if level >= l:\n",
    "            return None\n",
    "        \n",
    "        v = df.loc[code.value, \"Parent\"]\n",
    "\n",
    "        # Level == -1 (immediate parent)\n",
    "        if level == -1:\n",
    "            return IndustryCode(code.std, v)\n",
    "        \n",
    "        while l > level:\n",
    "            l = df.loc[v, \"Level\"]\n",
    "\n",
    "            if l != level:\n",
    "                v = df.loc[v, \"Parent\"]\n",
    "        \n",
    "        return IndustryCode(code.std, v)\n",
    "\n",
    "    # print(code.value)\n",
    "    return None\n",
    "\n",
    "# Evaluate the highest common level (HCL)\n",
    "def get_common_parent(code, other_std):\n",
    "    # from_df = inference_dfs[code.std]\n",
    "    to_df = inference_dfs[other_std]\n",
    "    level = get_level(code)\n",
    "    \n",
    "    if level == 1:\n",
    "        return IndustryCode(other_std, \"\")\n",
    "    \n",
    "    parent = get_parent(code)\n",
    "    \n",
    "    while parent.value not in to_df.index:\n",
    "        # print(std.value + \": \" + c.value)\n",
    "        parent = get_parent(parent)\n",
    "        # print(parent.value)\n",
    "    \n",
    "    parent = IndustryCode(other_std, parent.value)\n",
    "\n",
    "    while len(get_children(parent)) == 1 and get_level(parent) < get_level(code) - 1:\n",
    "        parent = get_children(parent)[0]\n",
    "    \n",
    "    return parent"
   ]
  },
  {
   "cell_type": "code",
   "execution_count": 30,
   "metadata": {},
   "outputs": [],
   "source": [
    "def get_detailed_code_str(code):\n",
    "\tdf = inference_dfs[code.std].copy()\n",
    "    \n",
    "\tif code.value in df.index:\n",
    "\t\tseries = df.loc[code.value]\n",
    "\t\tseries = series[series.index[~series.index.isin([\"Level\", \"Parent\", \"ISIC code\"])]]\n",
    "\t\tstring = f\"{code.std.value} Code: {series.name}\\n\"\n",
    "\n",
    "\t\tfor col in series.index:\n",
    "\t\t\tif series[col] != \"\":\n",
    "\t\t\t\ttext = re.sub(r\"\\s*\\(\\d+\\.\\d+(?:\\,\\s*\\d+\\.\\d+)*\\)\", \"\", series[col])\n",
    "\t\t\t\ttext = text.replace(\"\\n\", \"\")\n",
    "\t\t\t\t\n",
    "\t\t\t\tstring += f\"{col}: {text}\\n\"\n",
    "\t\t\t\t\t\t\n",
    "\t\treturn string.strip()\n",
    "\n",
    "\treturn None\n",
    "\n",
    "def get_detailed_company_str(company):\n",
    "\treturn f\"Company description: {company.description}\\n{get_detailed_code_str(company.code)}\"\n",
    "\n",
    "def get_match_prompt(company, to_codes):\n",
    "    from_std = company.code.std\n",
    "    to_std = to_codes[0].std\n",
    "    \n",
    "    prompt = f\"Classify the company below given its {from_std.value} code and description to the most similar\" \\\n",
    "\t\t\t f\" of the following {to_std.value} codes using their descriptions, examples and exclusions. When\" \\\n",
    "       \t\t f\" returning the result as JSON, the keys for the given code should be '{from_std.value}' and for\" \\\n",
    "    \t\t f\" the matched code as '{to_std.value}':\\n\\n{get_detailed_company_str(company)}\"\n",
    "    \n",
    "    for code in to_codes:\n",
    "        prompt += \"\\n\\n\" + get_detailed_code_str(code)\n",
    "    \n",
    "    return prompt\n",
    "\n",
    "def query_llm(company, to_codes):\n",
    "\tprompt = get_match_prompt(company, to_codes)\n",
    "\tto_std = to_codes[0].std\n",
    "\tprint(\"Prompt: \" + prompt)\n",
    "\n",
    "\tresponse = ollama.generate(model='llama3', prompt=prompt, format=\"json\", options={\"temperature\": 0.3})\n",
    "\tresponse = json.loads(response[\"response\"])\n",
    "\t# print(f\"Given {from_code.std.value} code: {from_code.value}, matched {to_std.value} code: {response[to_std.value]}\")\n",
    "\n",
    "\t# return IndustryCode(to_std, \"\")\n",
    "\treturn IndustryCode(to_std, response[to_std.value])"
   ]
  },
  {
   "cell_type": "code",
   "execution_count": 11,
   "metadata": {},
   "outputs": [],
   "source": [
    "# def get_match_prompt_from_common_parent(from_code, to_std):\n",
    "#     common_parent = get_common_parent(from_code, to_std)\n",
    "#     return get_match_prompt(from_code, get_children(common_parent))\n",
    "\n",
    "# c = IndustryCode(IndustryStandard.SSIC, \"01\")\n",
    "# print(get_match_prompt_from_common_parent(c, IndustryStandard.WZ))"
   ]
  },
  {
   "cell_type": "markdown",
   "metadata": {},
   "source": [
    "### 2. Obtaining similarity scores for validation"
   ]
  },
  {
   "cell_type": "code",
   "execution_count": 12,
   "metadata": {},
   "outputs": [],
   "source": [
    "def get_match(company, to_std, to_guesses_str):\n",
    "\tfrom_code = company.code\n",
    "\t# print(f\"'{from_code.std.value}', '{from_code.value}', '{to_std.value}', '{to_guesses_str}'\")\n",
    "\n",
    "\tif to_std == IndustryStandard.ISIC:\n",
    "\t\treturn IndustryCode(IndustryStandard.ISIC, NACE_df.loc[from_code.value, \"ISIC code\"])\n",
    "\n",
    "\tto_codes = [code for code in str_to_codes(to_guesses_str, to_std) if get_parent(code, level=1).value == get_parent(from_code, level=1).value]\n",
    "\n",
    "\tif len(to_codes) == 0:\n",
    "\t\t# Find common parent\n",
    "\t\tcommon_parent = get_common_parent(from_code, to_std)\n",
    "\t\tmatch = common_parent\n",
    "\n",
    "\t\twhile len(get_children(match)) > 0:\n",
    "\t\t\tto_codes = get_children(match)\n",
    "\n",
    "\t\t\t# If there is only one child, that is assumed to be the match\n",
    "\t\t\tif len(to_codes) == 1:\n",
    "\t\t\t\tmatch = to_codes[0]\n",
    "\n",
    "\t\t\t# If there are multiple children, \n",
    "\t\t\telif len(to_codes) > 1:\n",
    "\t\t\t\tmatch = query_llm(company, to_codes)\n",
    "\n",
    "\t\treturn match\n",
    "\n",
    "\telif len(to_codes) == 1:\n",
    "\t\treturn to_codes[0]\n",
    "\n",
    "\t# print(f\"Given {from_code.std.value} code: {from_code.value}, given {to_std.value} codes: {to_guesses_str}\")\n",
    "\treturn query_llm(company, to_codes)"
   ]
  },
  {
   "cell_type": "code",
   "execution_count": 13,
   "metadata": {},
   "outputs": [
    {
     "name": "stdout",
     "output_type": "stream",
     "text": [
      "Providing\n",
      "ISIC\n",
      "WZ\n",
      "SSIC\n",
      "Intermediate\n",
      "ISIC\n",
      "WZ\n",
      "SSIC\n",
      "Receiving\n",
      "ISIC\n",
      "WZ\n",
      "SSIC\n"
     ]
    }
   ],
   "source": [
    "# Loop through all company types\n",
    "for i in range(len(MAESTRI_ROLES)):\n",
    "    # Role: either 'Donor', 'Intermediary' or 'Receiver'\n",
    "    role = MAESTRI_ROLES[i]\n",
    "    # role = \"Intermediary\"\n",
    "    \n",
    "    # NACE column, example: 'Provider NACE code'\n",
    "    nace_col = get_maestri_code_col(IndustryStandard.NACE)\n",
    "\n",
    "    print(role)\n",
    "    \n",
    "    # Iterate through all standards except NACE as it is to be compared with\n",
    "    for std in NON_NACE_STDS:\n",
    "        print(std.value)\n",
    "\n",
    "        df = maestri_dfs[i].copy()\n",
    "        \n",
    "        # Standard column, example for ISIC: 'Donor ISIC code'\n",
    "        code_col = get_maestri_code_col(std)\n",
    "        \n",
    "        # Zip the NACE and standard columns to iterate through\n",
    "        tuples = zip(df[nace_col], df[MAESTRI_DESC_COL], df[code_col])\n",
    "        \n",
    "        ### -> INTRODUCE SIMILAR CODES HERE\n",
    "        df[code_col] = [get_match(    NACECompany(t[0], t[1]), std, t[2]    ).value for t in tuples]\n",
    "\n",
    "        maestri_dfs[i][code_col] = df[code_col]"
   ]
  },
  {
   "cell_type": "code",
   "execution_count": 16,
   "metadata": {},
   "outputs": [],
   "source": [
    "from pathlib import Path\n",
    "\n",
    "# Save data to new CSV files\n",
    "for i in range(len(MAESTRI_ROLES)):\n",
    "    role = MAESTRI_ROLES[i]\n",
    "    filepath = Path(EXPORTS_PATH / f\"MAESTRI_{role}.csv\")\n",
    "    filepath.parent.mkdir(parents=True, exist_ok=True)  \n",
    "\n",
    "    maestri_dfs[i].to_csv(filepath)"
   ]
  },
  {
   "cell_type": "code",
   "execution_count": 36,
   "metadata": {},
   "outputs": [
    {
     "name": "stdout",
     "output_type": "stream",
     "text": [
      "Prompt: Classify the company below given its NACE code and description to the most similar of the following WZ codes using their descriptions, examples and exclusions. When returning the result as JSON, the keys for the given code should be 'NACE' and for the matched code as 'WZ':\n",
      "\n",
      "Company description: PVC sewer pipes production\n",
      "NACE Code: 2221\n",
      "Description: Manufacture of plastic plates, sheets, tubes and profiles\n",
      "Examples: This class includes:- manufacture of semi-manufactures of plastic products:  . plastic plates, sheets, blocks, film, foil, strip etc. (whether self-adhesive or not)- manufacture of finished plastic products:  . plastic tubes, pipes and hoses; hose and pipe fittings  . cellophane film or sheet\n",
      "Exclusions: This class excludes:- manufacture of plastics in primary forms, see 20.16- manufacture of articles of synthetic or natural rubber, see 22.1\n",
      "\n",
      "WZ Code: 2221\n",
      "Description: Manufacture of plastic plates, sheets, tubes and profiles\n",
      "\n",
      "WZ Code: 2222\n",
      "Description: Manufacture of plastic packing goods\n",
      "\n",
      "WZ Code: 2223\n",
      "Description: Manufacture of builders’ ware of plastic\n",
      "\n",
      "WZ Code: 2229\n",
      "Description: Manufacture of other plastic products\n"
     ]
    },
    {
     "data": {
      "text/plain": [
       "Level                                                          5\n",
       "Parent                                                      2221\n",
       "Description    Manufacture of plastic plates, sheets, tubes a...\n",
       "Name: 22210, dtype: object"
      ]
     },
     "execution_count": 36,
     "metadata": {},
     "output_type": "execute_result"
    }
   ],
   "source": [
    "# This code within the receiving list is causing issues.\n",
    "# The description 'Manufacture of plastic plates, sheets, tubes and profiles'\n",
    "# is showing up as the SSIC code, preventing me from calculating the similarity\n",
    "# scores for the entire list. I had to export the DataFrame as a CSV,\n",
    "# manually change the 'code' and run the similarity function, after which\n",
    "# it worked as it should have.\n",
    "\n",
    "# Row info:\n",
    "# NACE: 2221; Guesses: ISIC: 2220, SSIC: 42201, WZ: 37001\n",
    "# Company description: PVC sewer pipes production\n",
    "\n",
    "company = NACECompany(\"2221\", \"PVC sewer pipes production\")\n",
    "c = get_match(company, IndustryStandard.WZ, \"37001\")\n",
    "inference_dfs[IndustryStandard.WZ].loc[c.value]"
   ]
  },
  {
   "cell_type": "code",
   "execution_count": 42,
   "metadata": {},
   "outputs": [],
   "source": [
    "# Loop through all company types\n",
    "for i in range(len(MAESTRI_ROLES)):\n",
    "    # Role: either 'Donor', 'Intermediary' or 'Receiver'\n",
    "    role = MAESTRI_ROLES[i]\n",
    "    # role = \"Intermediary\"\n",
    "    \n",
    "    # NACE column, example: 'Provider NACE code'\n",
    "    nace_col = get_maestri_code_col(IndustryStandard.NACE)\n",
    "    \n",
    "    # Iterate through all standards except NACE as it is to be compared with\n",
    "    for std in NON_NACE_STDS:\n",
    "        df = maestri_dfs[i].copy()\n",
    "        \n",
    "        # Standard column, example for ISIC: 'Donor ISIC code'\n",
    "        code_col = get_maestri_code_col(std)\n",
    "\n",
    "        similarity_col = get_similarity_col(std)\n",
    "\n",
    "        # Zip the NACE and standard columns to iterate through\n",
    "        tuples = zip(df[nace_col], df[code_col])\n",
    "        \n",
    "        # Append the similarity score column of a certain standard to the DataFrame for a given role\n",
    "        df[similarity_col] = [get_similarity(str(a[0]), IndustryStandard.NACE, str(a[1]), std) for a in tuples]\n",
    "        \n",
    "        # Convert the similarity score column data type to 'float'\n",
    "        df[similarity_col] = df[similarity_col].astype(float)\n",
    "\n",
    "        maestri_dfs[i][similarity_col] = df[similarity_col]\n",
    "        \n",
    "    # List containing new order of columns for readability\n",
    "    cols = [MAESTRI_DESC_COL, nace_col] + [f(std) for std in NON_NACE_STDS for f in (get_maestri_code_col, get_similarity_col)]\n",
    "    \n",
    "    # Reorder columns for readability\n",
    "    maestri_dfs[i] = maestri_dfs[i][cols]"
   ]
  },
  {
   "cell_type": "code",
   "execution_count": 38,
   "metadata": {},
   "outputs": [],
   "source": [
    "maestri_dfs = []\n",
    "\n",
    "for i in range(len(MAESTRI_ROLES)):\n",
    "    role = MAESTRI_ROLES[i]\n",
    "    path = EXPORTS_PATH / f\"MAESTRI_{role}.csv\"\n",
    "\n",
    "    df = pd.read_csv(path)\n",
    "    maestri_dfs.append(df)\n"
   ]
  },
  {
   "cell_type": "markdown",
   "metadata": {},
   "source": [
    "### 3. Model performance statistics"
   ]
  },
  {
   "cell_type": "code",
   "execution_count": 43,
   "metadata": {},
   "outputs": [],
   "source": [
    "# Score categories\n",
    "score_categories = [\"s = -1\", \"s = 0\", \"0 < s < 1\", \"s = 1\"]\n",
    "\n",
    "# Determine counts for a given series\n",
    "get_counts = lambda f: lambda x: {\n",
    "    \"s = -1\": [len(arr[(arr == -1)]) for arr in f(x)],\n",
    "    \"s = 0\": [len(arr[(arr == 0)]) for arr in f(x)],\n",
    "    \"0 < s < 1\": [len(arr[(arr > 0) & (arr < 1)]) for arr in f(x)],\n",
    "    \"s = 1\": [len(arr[arr == 1]) for arr in f(x)]\n",
    "}\n",
    "\n",
    "# Determine percents for a given series\n",
    "get_percents = lambda f: lambda x: {\n",
    "    \"s = -1\": [len(arr[arr == -1]) / len(arr) for arr in f(x)],\n",
    "    \"s = 0\": [len(arr[arr == 0]) / len(arr) for arr in f(x)],\n",
    "    \"0 < s < 1\": [len(arr[(arr > 0) & (arr < 1)]) / len(arr) for arr in f(x)],\n",
    "    \"s = 1\": [len(arr[arr == 1]) / len(arr) for arr in f(x)]\n",
    "}"
   ]
  },
  {
   "cell_type": "markdown",
   "metadata": {},
   "source": [
    "#### By company role and industry classification standards"
   ]
  },
  {
   "cell_type": "code",
   "execution_count": 44,
   "metadata": {},
   "outputs": [],
   "source": [
    "# Function to extract all scores by role\n",
    "scores_by_role = lambda std: [np.array(df[get_similarity_col(std)]) for df in maestri_dfs]\n",
    "\n",
    "# Function to calculate score count breakdown (by role)\n",
    "scores_counts_by_role = get_counts(scores_by_role)\n",
    "\n",
    "# Function to calculate score percentage (by role) breakdown\n",
    "scores_percents_by_role = get_percents(scores_by_role)"
   ]
  },
  {
   "cell_type": "markdown",
   "metadata": {},
   "source": [
    "#### By industry classification standard"
   ]
  },
  {
   "cell_type": "code",
   "execution_count": 45,
   "metadata": {},
   "outputs": [],
   "source": [
    "# Function to extract the scores of a given standard\n",
    "scores_std = lambda std: np.concatenate(scores_by_role(std))\n",
    "\n",
    "# Function to extract the scores of a set of standards\n",
    "scores = lambda stds: [scores_std(std) for std in stds]\n",
    "\n",
    "# Score count breakdown\n",
    "score_counts_dict = get_counts(scores)(NON_NACE_STDS)\n",
    "\n",
    "# Score percentage breakdown\n",
    "score_percents_dict = get_percents(scores)(NON_NACE_STDS)"
   ]
  },
  {
   "cell_type": "markdown",
   "metadata": {},
   "source": [
    "#### Text representation"
   ]
  },
  {
   "cell_type": "code",
   "execution_count": 46,
   "metadata": {},
   "outputs": [
    {
     "data": {
      "text/html": [
       "<div>\n",
       "<style scoped>\n",
       "    .dataframe tbody tr th:only-of-type {\n",
       "        vertical-align: middle;\n",
       "    }\n",
       "\n",
       "    .dataframe tbody tr th {\n",
       "        vertical-align: top;\n",
       "    }\n",
       "\n",
       "    .dataframe thead th {\n",
       "        text-align: right;\n",
       "    }\n",
       "</style>\n",
       "<table border=\"1\" class=\"dataframe\">\n",
       "  <thead>\n",
       "    <tr style=\"text-align: right;\">\n",
       "      <th></th>\n",
       "      <th>s = -1</th>\n",
       "      <th>s = 0</th>\n",
       "      <th>0 &lt; s &lt; 1</th>\n",
       "      <th>s = 1</th>\n",
       "    </tr>\n",
       "  </thead>\n",
       "  <tbody>\n",
       "    <tr>\n",
       "      <th>ISIC</th>\n",
       "      <td>0.0</td>\n",
       "      <td>0.000000</td>\n",
       "      <td>0.0</td>\n",
       "      <td>100.000000</td>\n",
       "    </tr>\n",
       "    <tr>\n",
       "      <th>WZ</th>\n",
       "      <td>0.0</td>\n",
       "      <td>5.389222</td>\n",
       "      <td>0.0</td>\n",
       "      <td>94.610778</td>\n",
       "    </tr>\n",
       "    <tr>\n",
       "      <th>SSIC</th>\n",
       "      <td>0.0</td>\n",
       "      <td>10.029940</td>\n",
       "      <td>0.0</td>\n",
       "      <td>89.970060</td>\n",
       "    </tr>\n",
       "  </tbody>\n",
       "</table>\n",
       "</div>"
      ],
      "text/plain": [
       "      s = -1      s = 0  0 < s < 1       s = 1\n",
       "ISIC     0.0   0.000000        0.0  100.000000\n",
       "WZ       0.0   5.389222        0.0   94.610778\n",
       "SSIC     0.0  10.029940        0.0   89.970060"
      ]
     },
     "execution_count": 46,
     "metadata": {},
     "output_type": "execute_result"
    }
   ],
   "source": [
    "similarity_matrix = pd.DataFrame.from_dict(score_percents_dict, orient=\"index\", columns=[std.value for std in NON_NACE_STDS])\n",
    "similarity_matrix = similarity_matrix.T\n",
    "similarity_matrix * 100"
   ]
  },
  {
   "cell_type": "markdown",
   "metadata": {},
   "source": [
    "#### Visualising similarity scores"
   ]
  },
  {
   "cell_type": "code",
   "execution_count": 47,
   "metadata": {},
   "outputs": [],
   "source": [
    "# Bar width for every plot\n",
    "bar_width = 0.3\n",
    "\n",
    "# List of named colours for matplotlib\n",
    "# Source: https://matplotlib.org/stable/gallery/color/named_colors.html\n",
    "bar_colors = {\n",
    "    \"s = -1\": \"lightgrey\",\n",
    "    \"s = 0\": \"indianred\",\n",
    "    \"0 < s < 1\": \"orange\",\n",
    "    \"s = 1\": \"mediumseagreen\"\n",
    "}"
   ]
  },
  {
   "cell_type": "markdown",
   "metadata": {},
   "source": [
    "##### By company role and industry classification standard"
   ]
  },
  {
   "cell_type": "code",
   "execution_count": 48,
   "metadata": {},
   "outputs": [],
   "source": [
    "# Create a subplot based on a given ICS\n",
    "def score_subplot(std, ax, is_percent=False):\n",
    "    # Obtain the dictionary with the breakdown of values by similarity score\n",
    "    values_dict = scores_percents_by_role(std) if is_percent else scores_counts_by_role(std)\n",
    "    \n",
    "    # Initial bar heights\n",
    "    bottom = np.zeros(len(NON_NACE_STDS))\n",
    "    \n",
    "    # Looping through each category ('s = 0', '0 < s < 1', 's = 1')\n",
    "    for category, values in values_dict.items():\n",
    "        # Add bars for each category for all roles ('Donor', 'Intermediary', 'Receiver')\n",
    "        ax.bar(MAESTRI_ROLES, values, bar_width, color=bar_colors[category], label=category, bottom=bottom)\n",
    "        \n",
    "        # Increment the base bar heights\n",
    "        bottom += values\n",
    "    \n",
    "    # Set the title of the subplot\n",
    "    ax.set_title(std.value)\n",
    "    \n",
    "    # Rotate the x-ticks by 45 degrees\n",
    "    ax.tick_params(axis=\"x\", labelrotation=45)\n",
    "    \n",
    "    # If the type of plot is a percentage plot,\n",
    "    if is_percent:\n",
    "        # format the y-axis to be percentage values\n",
    "        ax.yaxis.set_major_formatter(mtick.PercentFormatter(xmax=1))"
   ]
  },
  {
   "cell_type": "code",
   "execution_count": 49,
   "metadata": {},
   "outputs": [
    {
     "data": {
      "image/png": "[encoded data removed]",
      "text/plain": [
       "<Figure size 640x480 with 3 Axes>"
      ]
     },
     "metadata": {},
     "output_type": "display_data"
    }
   ],
   "source": [
    "fig, axs = plt.subplots(ncols=len(NON_NACE_STDS))\n",
    "\n",
    "# Add subplots for each standard\n",
    "for std, ax in zip(NON_NACE_STDS, axs):\n",
    "    score_subplot(std, ax)\n",
    "\n",
    "# Add a legend to the figure\n",
    "handles, labels = plt.gca().get_legend_handles_labels()\n",
    "fig.legend(handles, labels, ncol=len(score_categories), loc=\"lower center\", bbox_to_anchor=[0.5, -0.05])\n",
    "\n",
    "# Set the title of the figure\n",
    "fig.suptitle(f\"NACE threshold score distribution (t = {DIFF_THRESHOLD})\")\n",
    "\n",
    "# Add enough padding between subplots to prevent overlapping\n",
    "fig.tight_layout()\n",
    "\n",
    "plt.show()"
   ]
  },
  {
   "cell_type": "markdown",
   "metadata": {},
   "source": [
    "##### By industry classification standard"
   ]
  },
  {
   "cell_type": "code",
   "execution_count": 50,
   "metadata": {},
   "outputs": [],
   "source": [
    "# Function to extract the scores of a given standard\n",
    "scores_std = lambda std: np.concatenate(scores_by_role(std))\n",
    "\n",
    "# Function to extract the scores of a set of standards\n",
    "scores = lambda stds: [scores_std(std) for std in stds]\n",
    "\n",
    "# Score count breakdown\n",
    "score_counts_dict = get_counts(scores)(NON_NACE_STDS)\n",
    "\n",
    "# Score percentage breakdown\n",
    "score_percents_dict = get_percents(scores)(NON_NACE_STDS)"
   ]
  },
  {
   "cell_type": "code",
   "execution_count": 51,
   "metadata": {},
   "outputs": [],
   "source": [
    "# Create a subplot based on a given ICS\n",
    "def score_plot(ax, is_percent=False):\n",
    "    # x-axis values\n",
    "    x = [std.value for std in NON_NACE_STDS]\n",
    "    \n",
    "    # Obtain the dictionary with the breakdown of values by similarity score\n",
    "    values_dict = score_percents_dict if is_percent else score_counts_dict\n",
    "    \n",
    "    # Initial bar heights\n",
    "    bottom = np.zeros(len(x))\n",
    "    \n",
    "    # Looping through each category ('s = 0', '0 < s < 1', 's = 1')\n",
    "    for category, values in values_dict.items():\n",
    "        # Add bars for each category for all standards ('ISIC', 'WZ', 'SSIC')\n",
    "        ax.bar(x, values, bar_width, color=bar_colors[category], label=category, bottom=bottom)\n",
    "        \n",
    "        # Increment the base bar heights\n",
    "        bottom += values\n",
    "    \n",
    "    # If the type of plot is a percentage plot,\n",
    "    if is_percent:\n",
    "        # format the y-axis to be percentage values\n",
    "        ax.yaxis.set_major_formatter(mtick.PercentFormatter(xmax=1))"
   ]
  },
  {
   "cell_type": "code",
   "execution_count": 52,
   "metadata": {},
   "outputs": [
    {
     "data": {
      "image/png": "[encoded data removed]",
      "text/plain": [
       "<Figure size 640x480 with 1 Axes>"
      ]
     },
     "metadata": {},
     "output_type": "display_data"
    }
   ],
   "source": [
    "fig, ax = plt.subplots()\n",
    "\n",
    "# Add bars to the figure\n",
    "score_plot(ax, is_percent=True)\n",
    "\n",
    "# Add a legend to the figure\n",
    "handles, labels = plt.gca().get_legend_handles_labels()\n",
    "fig.legend(handles, labels, ncol=len(score_categories), loc=\"lower center\", bbox_to_anchor=[0.5, -0.05])\n",
    "\n",
    "# Set the title of the figure\n",
    "fig.suptitle(f\"NACE threshold score distribution (t = {DIFF_THRESHOLD})\")\n",
    "\n",
    "plt.show()"
   ]
  },
  {
   "cell_type": "markdown",
   "metadata": {},
   "source": [
    "### 4. Exporting results to Excel"
   ]
  },
  {
   "cell_type": "code",
   "execution_count": 53,
   "metadata": {},
   "outputs": [],
   "source": [
    "with pd.ExcelWriter(f\"{EXPORTS_PATH}/Exchanges-database Maestri_new.xlsx\") as writer:\n",
    "    for i in range(len(maestri_dfs)):\n",
    "        role = MAESTRI_ROLES[i]\n",
    "        df = maestri_dfs[i]\n",
    "        \n",
    "        df.to_excel(writer, sheet_name=role, index=False)\n",
    "        worksheet = writer.sheets[role]\n",
    "        workbook = writer.book\n",
    "        \n",
    "        format = workbook.add_format()\n",
    "        format.set_align('left')\n",
    "        format.set_align('vcenter')\n",
    "        \n",
    "        # Loop through all columns\n",
    "        for index, col in enumerate(df):\n",
    "            series = df[col]\n",
    "            max_len = max((\n",
    "                series.astype(str).map(len).max(),  # Length of largest item\n",
    "                len(str(series.name))               # Length of column name/header\n",
    "            ))\n",
    "            \n",
    "            # Set column width\n",
    "            worksheet.set_column(index, index, max_len, format)"
   ]
  }
 ],
 "metadata": {
  "kernelspec": {
   "display_name": "internship",
   "language": "python",
   "name": "python3"
  },
  "language_info": {
   "codemirror_mode": {
    "name": "ipython",
    "version": 3
   },
   "file_extension": ".py",
   "mimetype": "text/x-python",
   "name": "python",
   "nbconvert_exporter": "python",
   "pygments_lexer": "ipython3",
   "version": "3.11.9"
  }
 },
 "nbformat": 4,
 "nbformat_minor": 2
}
