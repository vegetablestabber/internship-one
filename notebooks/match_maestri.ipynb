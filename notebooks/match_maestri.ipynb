{
 "cells": [
  {
   "cell_type": "code",
   "execution_count": 1,
   "metadata": {},
   "outputs": [],
   "source": [
    "# Import MAESTRI dataset\n",
    "\n",
    "# Import correspondence tables\n",
    "\n",
    "# Match ISIC, WZ and SSIC codes to NACE codes\n",
    "\n",
    "## ISIC doesn't need NLP\n",
    "\n",
    "## WZ and SSIC have multiple codes for a given NACE code\n",
    "\n",
    "### Use a LLM to find the best match given extra info"
   ]
  },
  {
   "cell_type": "markdown",
   "metadata": {},
   "source": [
    "### 0. Utilities"
   ]
  },
  {
   "cell_type": "markdown",
   "metadata": {},
   "source": [
    "#### Imports"
   ]
  },
  {
   "cell_type": "code",
   "execution_count": 3,
   "metadata": {},
   "outputs": [],
   "source": [
    "import os\n",
    "import sys\n",
    "\n",
    "module_path = os.path.abspath(os.path.join('..'))\n",
    "\n",
    "if module_path not in sys.path:\n",
    "    sys.path.append(module_path)\n",
    "\n",
    "from utils.constants import EXPORTS_PATH\n",
    "from utils.inference import read_inference\n",
    "from utils.maestri import (MAESTRI_DESC_COL, MAESTRI_ROLES, NON_NACE_STDS,\n",
    "                           export_maestri, get_maestri_code_col, read_maestri)\n",
    "from utils.maestri.graphs import plot_scores_by_role, plot_scores_by_std\n",
    "from utils.maestri.similarity import (calc_similarity, get_similarity_col,\n",
    "                                      str_to_codes)\n",
    "from utils.maestri.stats import get_similarity_matrix\n",
    "from utils.maestri.validation import validate_maestri\n",
    "from utils.types import IndustryCode, IndustryStandard"
   ]
  },
  {
   "cell_type": "code",
   "execution_count": 4,
   "metadata": {},
   "outputs": [],
   "source": [
    "class NACECompany:\n",
    "    def __init__(self, code: str, desc: str):\n",
    "        self.code = IndustryCode(IndustryStandard.NACE, code)\n",
    "        self.description = desc"
   ]
  },
  {
   "cell_type": "markdown",
   "metadata": {},
   "source": [
    "### 1. Reading the MAESTRI dataset"
   ]
  },
  {
   "cell_type": "markdown",
   "metadata": {},
   "source": [
    "#### Importing the spreadsheet"
   ]
  },
  {
   "cell_type": "code",
   "execution_count": 5,
   "metadata": {},
   "outputs": [],
   "source": [
    "inference_dfs = read_inference()\n",
    "NACE_df = inference_dfs[IndustryStandard.NACE]"
   ]
  },
  {
   "cell_type": "code",
   "execution_count": 6,
   "metadata": {},
   "outputs": [],
   "source": [
    "# Read the MAESTRI dataset as a DataFrame\n",
    "maestri_dfs = read_maestri()\n",
    "\n",
    "def simplify_nace_code_str(string):\n",
    "    if \",\" in string:\n",
    "        return string.split(\",\")[0]\n",
    "    \n",
    "    return string.split(\";\")[0]\n",
    "\n",
    "for i in range(len(MAESTRI_ROLES)):\n",
    "    role = MAESTRI_ROLES\n",
    "    nace_col = get_maestri_code_col(IndustryStandard.NACE)\n",
    "\n",
    "    maestri_dfs[i][nace_col] = maestri_dfs[i][nace_col].map(simplify_nace_code_str)"
   ]
  },
  {
   "cell_type": "code",
   "execution_count": 7,
   "metadata": {},
   "outputs": [
    {
     "data": {
      "text/html": [
       "<div>\n",
       "<style scoped>\n",
       "    .dataframe tbody tr th:only-of-type {\n",
       "        vertical-align: middle;\n",
       "    }\n",
       "\n",
       "    .dataframe tbody tr th {\n",
       "        vertical-align: top;\n",
       "    }\n",
       "\n",
       "    .dataframe thead th {\n",
       "        text-align: right;\n",
       "    }\n",
       "</style>\n",
       "<table border=\"1\" class=\"dataframe\">\n",
       "  <thead>\n",
       "    <tr style=\"text-align: right;\">\n",
       "      <th></th>\n",
       "      <th>Company description</th>\n",
       "      <th>NACE code</th>\n",
       "      <th>ISIC code</th>\n",
       "      <th>WZ code</th>\n",
       "      <th>SSIC code</th>\n",
       "    </tr>\n",
       "  </thead>\n",
       "  <tbody>\n",
       "    <tr>\n",
       "      <th>0</th>\n",
       "      <td>Refinery</td>\n",
       "      <td>1920</td>\n",
       "      <td>1920</td>\n",
       "      <td>19200</td>\n",
       "      <td>19201</td>\n",
       "    </tr>\n",
       "    <tr>\n",
       "      <th>1</th>\n",
       "      <td>Refinery</td>\n",
       "      <td>1920</td>\n",
       "      <td>1920</td>\n",
       "      <td>19200</td>\n",
       "      <td>19201</td>\n",
       "    </tr>\n",
       "    <tr>\n",
       "      <th>2</th>\n",
       "      <td>Steelworks</td>\n",
       "      <td>2410</td>\n",
       "      <td>2410</td>\n",
       "      <td>24520</td>\n",
       "      <td>24310</td>\n",
       "    </tr>\n",
       "    <tr>\n",
       "      <th>3</th>\n",
       "      <td>Steelworks</td>\n",
       "      <td>2410</td>\n",
       "      <td>2410</td>\n",
       "      <td>24520</td>\n",
       "      <td>24310</td>\n",
       "    </tr>\n",
       "    <tr>\n",
       "      <th>4</th>\n",
       "      <td>Cement production</td>\n",
       "      <td>2351</td>\n",
       "      <td>2394</td>\n",
       "      <td>23510;23650;23610</td>\n",
       "      <td>23940</td>\n",
       "    </tr>\n",
       "  </tbody>\n",
       "</table>\n",
       "</div>"
      ],
      "text/plain": [
       "  Company description NACE code ISIC code            WZ code SSIC code\n",
       "0            Refinery      1920      1920              19200     19201\n",
       "1            Refinery      1920      1920              19200     19201\n",
       "2          Steelworks      2410      2410              24520     24310\n",
       "3          Steelworks      2410      2410              24520     24310\n",
       "4   Cement production      2351      2394  23510;23650;23610     23940"
      ]
     },
     "execution_count": 7,
     "metadata": {},
     "output_type": "execute_result"
    }
   ],
   "source": [
    "maestri_dfs[0].head()"
   ]
  },
  {
   "cell_type": "code",
   "execution_count": 11,
   "metadata": {},
   "outputs": [],
   "source": [
    "# def get_match_prompt_from_common_parent(from_code, to_std):\n",
    "#     common_parent = get_common_parent(from_code, to_std)\n",
    "#     return get_match_prompt(from_code, get_children(common_parent))\n",
    "\n",
    "# c = IndustryCode(IndustryStandard.SSIC, \"01\")\n",
    "# print(get_match_prompt_from_common_parent(c, IndustryStandard.WZ))"
   ]
  },
  {
   "cell_type": "markdown",
   "metadata": {},
   "source": [
    "### 2. Obtaining similarity scores for validation"
   ]
  },
  {
   "cell_type": "code",
   "execution_count": 13,
   "metadata": {},
   "outputs": [
    {
     "name": "stdout",
     "output_type": "stream",
     "text": [
      "Providing\n",
      "ISIC\n",
      "WZ\n",
      "SSIC\n",
      "Intermediate\n",
      "ISIC\n",
      "WZ\n",
      "SSIC\n",
      "Receiving\n",
      "ISIC\n",
      "WZ\n",
      "SSIC\n"
     ]
    }
   ],
   "source": [
    "# Loop through all company types\n",
    "for i in range(len(MAESTRI_ROLES)):\n",
    "    # Role: either 'Donor', 'Intermediary' or 'Receiver'\n",
    "    role = MAESTRI_ROLES[i]\n",
    "    # role = \"Intermediary\"\n",
    "    \n",
    "    # NACE column, example: 'Provider NACE code'\n",
    "    nace_col = get_maestri_code_col(IndustryStandard.NACE)\n",
    "\n",
    "    print(role)\n",
    "    \n",
    "    # Iterate through all standards except NACE as it is to be compared with\n",
    "    for std in NON_NACE_STDS:\n",
    "        print(std.value)\n",
    "\n",
    "        df = maestri_dfs[i].copy()\n",
    "        \n",
    "        # Standard column, example for ISIC: 'Donor ISIC code'\n",
    "        code_col = get_maestri_code_col(std)\n",
    "        \n",
    "        # Zip the NACE and standard columns to iterate through\n",
    "        tuples = zip(df[nace_col], df[MAESTRI_DESC_COL], df[code_col])\n",
    "        \n",
    "\t\t### CHANGE THIS IN THE MORNING\n",
    "\t\tto_codes = [code for code in str_to_codes(to_guesses_str, to_std) if get_parent(code, level=1).value == get_parent(from_code, level=1).value]\n",
    "        \n",
    "        ### -> INTRODUCE SIMILAR CODES HERE\n",
    "        df[code_col] = [get_match(    NACECompany(t[0], t[1]), str_to_codes(std, t[2])    ).value for t in tuples]\n",
    "\n",
    "        maestri_dfs[i][code_col] = df[code_col]"
   ]
  },
  {
   "cell_type": "code",
   "execution_count": 16,
   "metadata": {},
   "outputs": [],
   "source": [
    "from pathlib import Path\n",
    "\n",
    "# Save data to new CSV files\n",
    "for i in range(len(MAESTRI_ROLES)):\n",
    "    role = MAESTRI_ROLES[i]\n",
    "    filepath = Path(EXPORTS_PATH / f\"MAESTRI_{role}.csv\")\n",
    "    filepath.parent.mkdir(parents=True, exist_ok=True)  \n",
    "\n",
    "    maestri_dfs[i].to_csv(filepath)"
   ]
  },
  {
   "cell_type": "code",
   "execution_count": 36,
   "metadata": {},
   "outputs": [
    {
     "name": "stdout",
     "output_type": "stream",
     "text": [
      "Prompt: Classify the company below given its NACE code and description to the most similar of the following WZ codes using their descriptions, examples and exclusions. When returning the result as JSON, the keys for the given code should be 'NACE' and for the matched code as 'WZ':\n",
      "\n",
      "Company description: PVC sewer pipes production\n",
      "NACE Code: 2221\n",
      "Description: Manufacture of plastic plates, sheets, tubes and profiles\n",
      "Examples: This class includes:- manufacture of semi-manufactures of plastic products:  . plastic plates, sheets, blocks, film, foil, strip etc. (whether self-adhesive or not)- manufacture of finished plastic products:  . plastic tubes, pipes and hoses; hose and pipe fittings  . cellophane film or sheet\n",
      "Exclusions: This class excludes:- manufacture of plastics in primary forms, see 20.16- manufacture of articles of synthetic or natural rubber, see 22.1\n",
      "\n",
      "WZ Code: 2221\n",
      "Description: Manufacture of plastic plates, sheets, tubes and profiles\n",
      "\n",
      "WZ Code: 2222\n",
      "Description: Manufacture of plastic packing goods\n",
      "\n",
      "WZ Code: 2223\n",
      "Description: Manufacture of builders’ ware of plastic\n",
      "\n",
      "WZ Code: 2229\n",
      "Description: Manufacture of other plastic products\n"
     ]
    },
    {
     "data": {
      "text/plain": [
       "Level                                                          5\n",
       "Parent                                                      2221\n",
       "Description    Manufacture of plastic plates, sheets, tubes a...\n",
       "Name: 22210, dtype: object"
      ]
     },
     "execution_count": 36,
     "metadata": {},
     "output_type": "execute_result"
    }
   ],
   "source": [
    "# This code within the receiving list is causing issues.\n",
    "# The description 'Manufacture of plastic plates, sheets, tubes and profiles'\n",
    "# is showing up as the SSIC code, preventing me from calculating the similarity\n",
    "# scores for the entire list. I had to export the DataFrame as a CSV,\n",
    "# manually change the 'code' and run the similarity function, after which\n",
    "# it worked as it should have.\n",
    "\n",
    "# Row info:\n",
    "# NACE: 2221; Guesses: ISIC: 2220, SSIC: 42201, WZ: 37001\n",
    "# Company description: PVC sewer pipes production\n",
    "\n",
    "company = NACECompany(\"2221\", \"PVC sewer pipes production\")\n",
    "c = get_match(company, IndustryStandard.WZ, \"37001\")\n",
    "inference_dfs[IndustryStandard.WZ].loc[c.value]"
   ]
  },
  {
   "cell_type": "code",
   "execution_count": 42,
   "metadata": {},
   "outputs": [],
   "source": [
    "maestri_dfs = validate_maestri(maestri_dfs)"
   ]
  },
  {
   "cell_type": "markdown",
   "metadata": {},
   "source": [
    "### 3. Model performance statistics"
   ]
  },
  {
   "cell_type": "markdown",
   "metadata": {},
   "source": [
    "#### Summary"
   ]
  },
  {
   "cell_type": "code",
   "execution_count": 46,
   "metadata": {},
   "outputs": [
    {
     "data": {
      "text/html": [
       "<div>\n",
       "<style scoped>\n",
       "    .dataframe tbody tr th:only-of-type {\n",
       "        vertical-align: middle;\n",
       "    }\n",
       "\n",
       "    .dataframe tbody tr th {\n",
       "        vertical-align: top;\n",
       "    }\n",
       "\n",
       "    .dataframe thead th {\n",
       "        text-align: right;\n",
       "    }\n",
       "</style>\n",
       "<table border=\"1\" class=\"dataframe\">\n",
       "  <thead>\n",
       "    <tr style=\"text-align: right;\">\n",
       "      <th></th>\n",
       "      <th>s = -1</th>\n",
       "      <th>s = 0</th>\n",
       "      <th>0 &lt; s &lt; 1</th>\n",
       "      <th>s = 1</th>\n",
       "    </tr>\n",
       "  </thead>\n",
       "  <tbody>\n",
       "    <tr>\n",
       "      <th>ISIC</th>\n",
       "      <td>0.0</td>\n",
       "      <td>0.000000</td>\n",
       "      <td>0.0</td>\n",
       "      <td>100.000000</td>\n",
       "    </tr>\n",
       "    <tr>\n",
       "      <th>WZ</th>\n",
       "      <td>0.0</td>\n",
       "      <td>5.389222</td>\n",
       "      <td>0.0</td>\n",
       "      <td>94.610778</td>\n",
       "    </tr>\n",
       "    <tr>\n",
       "      <th>SSIC</th>\n",
       "      <td>0.0</td>\n",
       "      <td>10.029940</td>\n",
       "      <td>0.0</td>\n",
       "      <td>89.970060</td>\n",
       "    </tr>\n",
       "  </tbody>\n",
       "</table>\n",
       "</div>"
      ],
      "text/plain": [
       "      s = -1      s = 0  0 < s < 1       s = 1\n",
       "ISIC     0.0   0.000000        0.0  100.000000\n",
       "WZ       0.0   5.389222        0.0   94.610778\n",
       "SSIC     0.0  10.029940        0.0   89.970060"
      ]
     },
     "execution_count": 46,
     "metadata": {},
     "output_type": "execute_result"
    }
   ],
   "source": [
    "get_similarity_matrix(maestri_dfs, is_percent=True) * 100"
   ]
  },
  {
   "cell_type": "markdown",
   "metadata": {},
   "source": [
    "#### Visualising similarity scores"
   ]
  },
  {
   "cell_type": "markdown",
   "metadata": {},
   "source": [
    "##### By company role and industry classification standard"
   ]
  },
  {
   "cell_type": "code",
   "execution_count": 48,
   "metadata": {},
   "outputs": [],
   "source": [
    "plot_scores_by_role(maestri_dfs)"
   ]
  },
  {
   "cell_type": "markdown",
   "metadata": {},
   "source": [
    "##### By industry classification standard"
   ]
  },
  {
   "cell_type": "code",
   "execution_count": 50,
   "metadata": {},
   "outputs": [],
   "source": [
    "plot_scores_by_std(maestri_dfs)"
   ]
  },
  {
   "cell_type": "markdown",
   "metadata": {},
   "source": [
    "### 4. Exporting results to Excel"
   ]
  },
  {
   "cell_type": "code",
   "execution_count": 53,
   "metadata": {},
   "outputs": [],
   "source": [
    "export_maestri(maestri_dfs)"
   ]
  }
 ],
 "metadata": {
  "kernelspec": {
   "display_name": "internship",
   "language": "python",
   "name": "python3"
  },
  "language_info": {
   "codemirror_mode": {
    "name": "ipython",
    "version": 3
   },
   "file_extension": ".py",
   "mimetype": "text/x-python",
   "name": "python",
   "nbconvert_exporter": "python",
   "pygments_lexer": "ipython3",
   "version": "3.11.9"
  }
 },
 "nbformat": 4,
 "nbformat_minor": 2
}
