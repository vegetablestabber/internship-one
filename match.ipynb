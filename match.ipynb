{
 "cells": [
  {
   "cell_type": "code",
   "execution_count": null,
   "metadata": {},
   "outputs": [],
   "source": [
    "from enum import Enum\n",
    "import pandas as pd\n",
    "import numpy as np"
   ]
  },
  {
   "cell_type": "markdown",
   "metadata": {},
   "source": [
    "import spacy\n",
    "from spacy import displacy\n",
    "from spacy.language import Language\n",
    "\n",
    "nlp = spacy.load(\"en_core_web_md\")\n",
    "\n",
    "# Add the function to the pipeline\n",
    "config = {\"punct_chars\": [\"•\", \"\\n\", \"-\"]}\n",
    "nlp.add_pipe(\"sentencizer\", config=config, before=\"parser\")"
   ]
  },
  {
   "cell_type": "code",
   "execution_count": null,
   "metadata": {},
   "outputs": [],
   "source": [
    "from sentence_transformers import SentenceTransformer\n",
    "\n",
    "# Load a pretrained Sentence Transformer model\n",
    "model = SentenceTransformer(\"all-MiniLM-L6-v2\")"
   ]
  },
  {
   "cell_type": "code",
   "execution_count": null,
   "metadata": {},
   "outputs": [],
   "source": [
    "inference_dfs = dict()"
   ]
  },
  {
   "cell_type": "code",
   "execution_count": null,
   "metadata": {},
   "outputs": [],
   "source": [
    "std_dfs = {\n",
    "    IndustryStandard.ISIC: ISIC_df,\n",
    "    IndustryStandard.NACE: NACE_df,\n",
    "    IndustryStandard.WZ: WZ_df,\n",
    "    IndustryStandard.SSIC: SSIC_v2_df\n",
    "}"
   ]
  },
  {
   "cell_type": "code",
   "execution_count": null,
   "metadata": {},
   "outputs": [],
   "source": [
    "text = NACE_df.loc[\"02.10\", \"Examples\"]\n",
    "\n",
    "doc = nlp(text)\n",
    "list(doc.sents)"
   ]
  },
  {
   "cell_type": "code",
   "execution_count": null,
   "metadata": {},
   "outputs": [],
   "source": [
    "# Calculate embeddings by calling model.encode()\n",
    "embeddings = model.encode(sentences)\n",
    "print(embeddings.shape)\n",
    "# [3, 384]\n",
    "\n",
    "from sklearn.metrics.pairwise import cosine_similarity\n",
    "\n",
    "similarities = cosine_similarity(embeddings, embeddings)\n",
    "print(similarities)"
   ]
  },
  {
   "cell_type": "code",
   "execution_count": null,
   "metadata": {},
   "outputs": [],
   "source": [
    "def match_codes(std, other):\n",
    "    # Break up paragraphs\n",
    "    \n",
    "    \n",
    "    # Sentence segmentation\n",
    "    \n",
    "    \n",
    "    # Tokenisation\n",
    "    \n",
    "    \n",
    "    # Word embeddings\n",
    "    \n",
    "    \n",
    "    # Cosine similarity\n",
    "    "
   ]
  },
  {
   "cell_type": "code",
   "execution_count": null,
   "metadata": {},
   "outputs": [],
   "source": [
    "for std, df in std_dfs.items():\n",
    "    # Create new DataFrame with columns that are the same as the ones in the standard's columns\n",
    "    inference_df = pd.DataFrame(columns=df.columns)\n",
    "    \n",
    "    for other in stds:\n",
    "        if other != std:\n",
    "            inference_df[f\"{other.value} code\"] = match_codes(std, other)\n",
    "    \n",
    "    # Add the DataFrame to the inference DataFrame dictionary\n",
    "    inference_dfs[std] = inference_df"
   ]
  },
  {
   "cell_type": "code",
   "execution_count": null,
   "metadata": {},
   "outputs": [],
   "source": [
    "inference_dfs[IndustryStandard.ISIC]"
   ]
  },
  {
   "cell_type": "code",
   "execution_count": null,
   "metadata": {},
   "outputs": [],
   "source": []
  }
 ],
 "metadata": {
  "kernelspec": {
   "display_name": "internship",
   "language": "python",
   "name": "python3"
  },
  "language_info": {
   "name": "python",
   "version": "3.11.9"
  }
 },
 "nbformat": 4,
 "nbformat_minor": 2
}
