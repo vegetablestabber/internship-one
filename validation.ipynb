{
 "cells": [
  {
   "cell_type": "markdown",
   "metadata": {},
   "source": [
    "### 0. Utilities"
   ]
  },
  {
   "cell_type": "code",
   "execution_count": 1153,
   "metadata": {},
   "outputs": [],
   "source": [
    "from enum import Enum\n",
    "import numpy as np\n",
    "import pandas as pd\n",
    "import matplotlib.pyplot as plt\n",
    "import matplotlib.ticker as mtick"
   ]
  },
  {
   "cell_type": "markdown",
   "metadata": {},
   "source": [
    "#### Custom types"
   ]
  },
  {
   "cell_type": "code",
   "execution_count": 1154,
   "metadata": {},
   "outputs": [],
   "source": [
    "# Industry clasification standards (ICSs)\n",
    "\n",
    "class IndustryClassificationType(Enum):\n",
    "    NACE = \"NACE\"\n",
    "    ISIC = \"ISIC\"\n",
    "    WZ = \"WZ\"\n",
    "    SSIC = \"SSIC\"\n",
    "\n",
    "class IndustryClassification:\n",
    "    def __init__(type, code: IndustryClassificationType):\n",
    "        self.type = type\n",
    "        self.code = code"
   ]
  },
  {
   "cell_type": "markdown",
   "metadata": {},
   "source": [
    "#### Constants"
   ]
  },
  {
   "cell_type": "code",
   "execution_count": 1155,
   "metadata": {},
   "outputs": [],
   "source": [
    "# ICSs as a list\n",
    "ind_stds = [std.value for std in IndustryStandard]\n",
    "\n",
    "# Non-NACE standards\n",
    "non_nace_stds = ind_stds[1:]\n",
    "\n",
    "# Roles of companies in industrial symbiosis\n",
    "old_roles = (\"Providing\", \"Intermediate\", \"Receiving\")\n",
    "\n",
    "# New roles (for readability)\n",
    "roles = (\"Donor\", \"Intermediary\", \"Receiver\")\n",
    "\n",
    "# Standard code difference threshold, 't'\n",
    "DIFF_THRESHOLD = 0"
   ]
  },
  {
   "cell_type": "markdown",
   "metadata": {},
   "source": [
    "#### Helper functions"
   ]
  },
  {
   "cell_type": "markdown",
   "metadata": {},
   "source": [
    "##### Obtaining column names"
   ]
  },
  {
   "cell_type": "code",
   "execution_count": 1156,
   "metadata": {},
   "outputs": [],
   "source": [
    "# Obtain column name based on the imported MAESTRI dataset, given ICS and company role\n",
    "old_col = lambda std, role: f\"{std} code - {role} industry\"\n",
    "\n",
    "# Obtain concise column name, given ICS and company role\n",
    "new_col = lambda std, role: f\"{role} {std} code\"\n",
    "\n",
    "# Obtain column name for similarity score, given ICS and company role\n",
    "similarity_col = lambda std, role: f\"{role} {std} code sim. score\""
   ]
  },
  {
   "cell_type": "markdown",
   "metadata": {},
   "source": [
    "##### Similarity score calculation\n",
    "\n",
    "**ASSUMPTION:** If the difference of codes of the same level is within a given threshold, then they are equal."
   ]
  },
  {
   "cell_type": "code",
   "execution_count": 1175,
   "metadata": {},
   "outputs": [
    {
     "data": {
      "text/html": [
       "<div>\n",
       "<style scoped>\n",
       "    .dataframe tbody tr th:only-of-type {\n",
       "        vertical-align: middle;\n",
       "    }\n",
       "\n",
       "    .dataframe tbody tr th {\n",
       "        vertical-align: top;\n",
       "    }\n",
       "\n",
       "    .dataframe thead th {\n",
       "        text-align: right;\n",
       "    }\n",
       "</style>\n",
       "<table border=\"1\" class=\"dataframe\">\n",
       "  <thead>\n",
       "    <tr style=\"text-align: right;\">\n",
       "      <th></th>\n",
       "      <th>Level</th>\n",
       "      <th>Parent</th>\n",
       "      <th>Description</th>\n",
       "      <th>Examples</th>\n",
       "      <th>Exclusions</th>\n",
       "      <th>ISIC code</th>\n",
       "    </tr>\n",
       "    <tr>\n",
       "      <th>Code</th>\n",
       "      <th></th>\n",
       "      <th></th>\n",
       "      <th></th>\n",
       "      <th></th>\n",
       "      <th></th>\n",
       "      <th></th>\n",
       "    </tr>\n",
       "  </thead>\n",
       "  <tbody>\n",
       "    <tr>\n",
       "      <th>A</th>\n",
       "      <td>1</td>\n",
       "      <td>NaN</td>\n",
       "      <td>AGRICULTURE, FORESTRY AND FISHING</td>\n",
       "      <td>This section includes the exploitation of vege...</td>\n",
       "      <td>NaN</td>\n",
       "      <td>A</td>\n",
       "    </tr>\n",
       "    <tr>\n",
       "      <th>01</th>\n",
       "      <td>2</td>\n",
       "      <td>A</td>\n",
       "      <td>Crop and animal production, hunting and relate...</td>\n",
       "      <td>This division includes two basic activities, n...</td>\n",
       "      <td>Agricultural activities exclude any subsequent...</td>\n",
       "      <td>01</td>\n",
       "    </tr>\n",
       "    <tr>\n",
       "      <th>01.1</th>\n",
       "      <td>3</td>\n",
       "      <td>01</td>\n",
       "      <td>Growing of non-perennial crops</td>\n",
       "      <td>This group includes the growing of non-perenni...</td>\n",
       "      <td>NaN</td>\n",
       "      <td>011</td>\n",
       "    </tr>\n",
       "    <tr>\n",
       "      <th>01.11</th>\n",
       "      <td>4</td>\n",
       "      <td>01.1</td>\n",
       "      <td>Growing of cereals (except rice), leguminous c...</td>\n",
       "      <td>This class includes all forms of growing of ce...</td>\n",
       "      <td>This class excludes: - growing of rice, see 01...</td>\n",
       "      <td>0111</td>\n",
       "    </tr>\n",
       "    <tr>\n",
       "      <th>01.12</th>\n",
       "      <td>4</td>\n",
       "      <td>01.1</td>\n",
       "      <td>Growing of rice</td>\n",
       "      <td>This class includes: - growing of rice (includ...</td>\n",
       "      <td>NaN</td>\n",
       "      <td>0112</td>\n",
       "    </tr>\n",
       "  </tbody>\n",
       "</table>\n",
       "</div>"
      ],
      "text/plain": [
       "       Level Parent                                        Description  \\\n",
       "Code                                                                     \n",
       "A          1    NaN                  AGRICULTURE, FORESTRY AND FISHING   \n",
       "01         2      A  Crop and animal production, hunting and relate...   \n",
       "01.1       3     01                     Growing of non-perennial crops   \n",
       "01.11      4   01.1  Growing of cereals (except rice), leguminous c...   \n",
       "01.12      4   01.1                                    Growing of rice   \n",
       "\n",
       "                                                Examples  \\\n",
       "Code                                                       \n",
       "A      This section includes the exploitation of vege...   \n",
       "01     This division includes two basic activities, n...   \n",
       "01.1   This group includes the growing of non-perenni...   \n",
       "01.11  This class includes all forms of growing of ce...   \n",
       "01.12  This class includes: - growing of rice (includ...   \n",
       "\n",
       "                                              Exclusions ISIC code  \n",
       "Code                                                                \n",
       "A                                                    NaN         A  \n",
       "01     Agricultural activities exclude any subsequent...        01  \n",
       "01.1                                                 NaN       011  \n",
       "01.11  This class excludes: - growing of rice, see 01...      0111  \n",
       "01.12                                                NaN      0112  "
      ]
     },
     "execution_count": 1175,
     "metadata": {},
     "output_type": "execute_result"
    }
   ],
   "source": [
    "NACE_df = pd.read_csv(\"data/exports/NACE.csv\", index_col=\"Code\")\n",
    "NACE_df.head()"
   ]
  },
  {
   "cell_type": "code",
   "execution_count": null,
   "metadata": {},
   "outputs": [],
   "source": [
    "def lookup_isic_code(code):\n",
    "    if code.type == IndustryClassificationType.NACE:\n",
    "        \n",
    "    \n",
    "    return None"
   ]
  },
  {
   "cell_type": "code",
   "execution_count": 1157,
   "metadata": {},
   "outputs": [],
   "source": [
    "# Ensure the strings are of comparable length\n",
    "def comparable_strs(lst):\n",
    "    min_len = min([len(code) for code in lst])\n",
    "    return [str[:min_len] for str in lst]\n",
    "\n",
    "\n",
    "\n",
    "# Compare two codes\n",
    "def compare(code1, code2):\n",
    "    diff = abs(int(code1) - int(code2))\n",
    "    return 1 if diff <= DIFF_THRESHOLD else 0\n",
    "\n",
    "# Compare a code with a list of codes\n",
    "def compare_one_to_many(code1, codes):\n",
    "    codes = [code1, *codes]\n",
    "    comparable_codes = comparable_strs(codes)[1:]\n",
    "    \n",
    "    scores = [compare(code1, code) for code in comparable_codes]\n",
    "    return str(sum(scores) / len(scores))\n",
    "\n",
    "# Compare a list of codes with another list of codes\n",
    "def compare_many(codes1, codes2):\n",
    "    lst = [comparable_strs([code1, code2]) for code1, code2 in zip(codes1, codes2)]\n",
    "    lst = [tuple(l) for l in lst]\n",
    "    \n",
    "    scores = [compare(code1, code2) for code1, code2 in lst]\n",
    "    return str(sum(scores) / len(scores))"
   ]
  },
  {
   "cell_type": "code",
   "execution_count": 1158,
   "metadata": {},
   "outputs": [],
   "source": [
    "# Evaluate similarity score based on NACE code and another standard code\n",
    "def similarity_score(nace_code_str, std_code_str):\n",
    "    # If code does not exist\n",
    "    if nace_code_str == \"\" or std_code_str == \"\":\n",
    "        return \"\"\n",
    "    \n",
    "    # Split the text by either ';' or ','\n",
    "    \n",
    "    ## NACE code\n",
    "    if \";\" in nace_code_str:\n",
    "        nace_codes = nace_code_str.split(\";\")\n",
    "    elif \",\" in nace_code_str:\n",
    "        nace_codes = nace_code_str.split(\",\")\n",
    "    else:\n",
    "        nace_codes = [nace_code_str]\n",
    "    \n",
    "    ## Standard code\n",
    "    if \";\" in std_code_str:\n",
    "        std_codes = std_code_str.split(\";\")\n",
    "    elif \",\" in std_code_str:\n",
    "        std_codes = std_code_str.split(\",\")\n",
    "    else:\n",
    "        std_codes = [std_code_str]\n",
    "    \n",
    "    if len(nace_codes) > 1:\n",
    "        if len(std_codes) == 1:\n",
    "            return compare_one_to_many(std_codes[0], nace_codes)\n",
    "        elif len(nace_codes) == len(std_codes):\n",
    "            return compare_many(nace_codes, std_codes)\n",
    "            \n",
    "        return \"\"\n",
    "    \n",
    "    return compare_one_to_many(nace_codes[0], std_codes)"
   ]
  },
  {
   "cell_type": "markdown",
   "metadata": {},
   "source": [
    "### 1. Reading the MAESTRI dataset"
   ]
  },
  {
   "cell_type": "markdown",
   "metadata": {},
   "source": [
    "#### Importing the spreadsheeet"
   ]
  },
  {
   "cell_type": "code",
   "execution_count": 1159,
   "metadata": {},
   "outputs": [],
   "source": [
    "# Read the MAESTRI dataset as a DataFrame\n",
    "maestri_df = pd.read_excel(\"data/Exchanges-database Maestri.xlsx\", sheet_name=\"MAESTRI\", dtype=str)\n",
    "\n",
    "# Replace NaN values with empty strings\n",
    "maestri_df = maestri_df.fillna(\"\")\n",
    "\n",
    "# Remove carets, asterisks and hashes\n",
    "maestri_df.replace([r\"\\^|\\*|#\"], \"\", regex=True, inplace=True)"
   ]
  },
  {
   "cell_type": "markdown",
   "metadata": {},
   "source": [
    "#### Split the main dataset into DataFrames for each role (i.e., provider, intermediary, receiver)"
   ]
  },
  {
   "cell_type": "code",
   "execution_count": 1160,
   "metadata": {},
   "outputs": [],
   "source": [
    "# Aggregate relevant column names for data validation\n",
    "cols_list = [[old_col(std, next(iter(type))) for std in ind_stds] for type in company_roles]\n",
    "\n",
    "# Obtain subsets within the original dataset for validation\n",
    "test_dfs = [maestri_df[cols].copy() for cols in cols_list]\n",
    "\n",
    "# Rename columns within subsets\n",
    "for i in range(len(roles)):\n",
    "    col_dict = dict()\n",
    "    old_role = old_roles[i]\n",
    "    new_role = roles[i]\n",
    "    \n",
    "    for std in ind_stds:\n",
    "        k = old_col(std, old_role)\n",
    "        v = new_col(std, new_role)\n",
    "        \n",
    "        col_dict.update({k: v})\n",
    "    \n",
    "    test_dfs[i] = test_dfs[i].rename(columns=col_dict)\n",
    "    \n",
    "    # Drop rows with null values for the NACE code\n",
    "    # Source: https://stackoverflow.com/questions/29314033/drop-rows-containing-empty-cells-from-a-pandas-dataframe\n",
    "    std = ind_stds[i + 1]\n",
    "    test_dfs[i] = test_dfs[i][   test_dfs[i][new_col(std, new_role)].astype(bool)   ]"
   ]
  },
  {
   "cell_type": "code",
   "execution_count": 1161,
   "metadata": {},
   "outputs": [
    {
     "data": {
      "text/html": [
       "<div>\n",
       "<style scoped>\n",
       "    .dataframe tbody tr th:only-of-type {\n",
       "        vertical-align: middle;\n",
       "    }\n",
       "\n",
       "    .dataframe tbody tr th {\n",
       "        vertical-align: top;\n",
       "    }\n",
       "\n",
       "    .dataframe thead th {\n",
       "        text-align: right;\n",
       "    }\n",
       "</style>\n",
       "<table border=\"1\" class=\"dataframe\">\n",
       "  <thead>\n",
       "    <tr style=\"text-align: right;\">\n",
       "      <th></th>\n",
       "      <th>Donor NACE code</th>\n",
       "      <th>Donor ISIC code</th>\n",
       "      <th>Donor WZ code</th>\n",
       "      <th>Donor SSIC code</th>\n",
       "    </tr>\n",
       "  </thead>\n",
       "  <tbody>\n",
       "    <tr>\n",
       "      <th>0</th>\n",
       "      <td>1920</td>\n",
       "      <td>1920</td>\n",
       "      <td>19200</td>\n",
       "      <td>19201</td>\n",
       "    </tr>\n",
       "    <tr>\n",
       "      <th>1</th>\n",
       "      <td>1920</td>\n",
       "      <td>1920</td>\n",
       "      <td>19200</td>\n",
       "      <td>19201</td>\n",
       "    </tr>\n",
       "    <tr>\n",
       "      <th>2</th>\n",
       "      <td>2410</td>\n",
       "      <td>2410</td>\n",
       "      <td>24520</td>\n",
       "      <td>24310</td>\n",
       "    </tr>\n",
       "    <tr>\n",
       "      <th>3</th>\n",
       "      <td>2410</td>\n",
       "      <td>2410</td>\n",
       "      <td>24520</td>\n",
       "      <td>24310</td>\n",
       "    </tr>\n",
       "    <tr>\n",
       "      <th>4</th>\n",
       "      <td>2351</td>\n",
       "      <td>2394</td>\n",
       "      <td>23510;23650;23610</td>\n",
       "      <td>23940</td>\n",
       "    </tr>\n",
       "  </tbody>\n",
       "</table>\n",
       "</div>"
      ],
      "text/plain": [
       "  Donor NACE code Donor ISIC code      Donor WZ code Donor SSIC code\n",
       "0            1920            1920              19200           19201\n",
       "1            1920            1920              19200           19201\n",
       "2            2410            2410              24520           24310\n",
       "3            2410            2410              24520           24310\n",
       "4            2351            2394  23510;23650;23610           23940"
      ]
     },
     "execution_count": 1161,
     "metadata": {},
     "output_type": "execute_result"
    }
   ],
   "source": [
    "test_dfs[0].head()"
   ]
  },
  {
   "cell_type": "markdown",
   "metadata": {},
   "source": [
    "### 2. Obtaining similarity scores for validation"
   ]
  },
  {
   "cell_type": "code",
   "execution_count": 1162,
   "metadata": {},
   "outputs": [],
   "source": [
    "# Loop through all company types\n",
    "for i in range(len(roles)):\n",
    "    # Role: either 'Donor', 'Intermediary' or 'Receiver'\n",
    "    role = roles[i]\n",
    "    \n",
    "    # NACE column, example: 'Provider NACE code'\n",
    "    nace_col = new_col(ind_stds[0], role)\n",
    "    \n",
    "    # Iterate through all standards except NACE as it is to be compared with\n",
    "    for std in non_nace_stds:\n",
    "        df = test_dfs[i]\n",
    "        \n",
    "        # Standard column, example for ISIC: 'Donor ISIC code'\n",
    "        std_col = new_col(std, role)\n",
    "        \n",
    "        # Zip the NACE and standard columns to iterate through\n",
    "        tuples = zip(df[nace_col], df[std_col])\n",
    "        \n",
    "        # Append the similarity score column of a certain standard to the DataFrame for a given role\n",
    "        df[similarity_col(std, role)] = [similarity_score(*a) for a in tuples]\n",
    "        \n",
    "        # Convert the similarity score column data type to 'float'\n",
    "        df[similarity_col(std, role)] = df[similarity_col(std, role)].astype(float)\n",
    "    \n",
    "    # List containing new order of columns for readability\n",
    "    cols = [nace_col] + [f(std, role) for std in non_nace_stds for f in (new_col, similarity_col)]\n",
    "    \n",
    "    # Reorder columns for readability\n",
    "    test_dfs[i] = test_dfs[i][cols]"
   ]
  },
  {
   "cell_type": "code",
   "execution_count": 1163,
   "metadata": {},
   "outputs": [
    {
     "data": {
      "text/html": [
       "<div>\n",
       "<style scoped>\n",
       "    .dataframe tbody tr th:only-of-type {\n",
       "        vertical-align: middle;\n",
       "    }\n",
       "\n",
       "    .dataframe tbody tr th {\n",
       "        vertical-align: top;\n",
       "    }\n",
       "\n",
       "    .dataframe thead th {\n",
       "        text-align: right;\n",
       "    }\n",
       "</style>\n",
       "<table border=\"1\" class=\"dataframe\">\n",
       "  <thead>\n",
       "    <tr style=\"text-align: right;\">\n",
       "      <th></th>\n",
       "      <th>Donor NACE code</th>\n",
       "      <th>Donor ISIC code</th>\n",
       "      <th>Donor ISIC code sim. score</th>\n",
       "      <th>Donor WZ code</th>\n",
       "      <th>Donor WZ code sim. score</th>\n",
       "      <th>Donor SSIC code</th>\n",
       "      <th>Donor SSIC code sim. score</th>\n",
       "    </tr>\n",
       "  </thead>\n",
       "  <tbody>\n",
       "    <tr>\n",
       "      <th>0</th>\n",
       "      <td>1920</td>\n",
       "      <td>1920</td>\n",
       "      <td>1.0</td>\n",
       "      <td>19200</td>\n",
       "      <td>1.000000</td>\n",
       "      <td>19201</td>\n",
       "      <td>1.0</td>\n",
       "    </tr>\n",
       "    <tr>\n",
       "      <th>1</th>\n",
       "      <td>1920</td>\n",
       "      <td>1920</td>\n",
       "      <td>1.0</td>\n",
       "      <td>19200</td>\n",
       "      <td>1.000000</td>\n",
       "      <td>19201</td>\n",
       "      <td>1.0</td>\n",
       "    </tr>\n",
       "    <tr>\n",
       "      <th>2</th>\n",
       "      <td>2410</td>\n",
       "      <td>2410</td>\n",
       "      <td>1.0</td>\n",
       "      <td>24520</td>\n",
       "      <td>0.000000</td>\n",
       "      <td>24310</td>\n",
       "      <td>0.0</td>\n",
       "    </tr>\n",
       "    <tr>\n",
       "      <th>3</th>\n",
       "      <td>2410</td>\n",
       "      <td>2410</td>\n",
       "      <td>1.0</td>\n",
       "      <td>24520</td>\n",
       "      <td>0.000000</td>\n",
       "      <td>24310</td>\n",
       "      <td>0.0</td>\n",
       "    </tr>\n",
       "    <tr>\n",
       "      <th>4</th>\n",
       "      <td>2351</td>\n",
       "      <td>2394</td>\n",
       "      <td>0.0</td>\n",
       "      <td>23510;23650;23610</td>\n",
       "      <td>0.333333</td>\n",
       "      <td>23940</td>\n",
       "      <td>0.0</td>\n",
       "    </tr>\n",
       "  </tbody>\n",
       "</table>\n",
       "</div>"
      ],
      "text/plain": [
       "  Donor NACE code Donor ISIC code  Donor ISIC code sim. score  \\\n",
       "0            1920            1920                         1.0   \n",
       "1            1920            1920                         1.0   \n",
       "2            2410            2410                         1.0   \n",
       "3            2410            2410                         1.0   \n",
       "4            2351            2394                         0.0   \n",
       "\n",
       "       Donor WZ code  Donor WZ code sim. score Donor SSIC code  \\\n",
       "0              19200                  1.000000           19201   \n",
       "1              19200                  1.000000           19201   \n",
       "2              24520                  0.000000           24310   \n",
       "3              24520                  0.000000           24310   \n",
       "4  23510;23650;23610                  0.333333           23940   \n",
       "\n",
       "   Donor SSIC code sim. score  \n",
       "0                         1.0  \n",
       "1                         1.0  \n",
       "2                         0.0  \n",
       "3                         0.0  \n",
       "4                         0.0  "
      ]
     },
     "execution_count": 1163,
     "metadata": {},
     "output_type": "execute_result"
    }
   ],
   "source": [
    "test_dfs[0].head()"
   ]
  },
  {
   "cell_type": "markdown",
   "metadata": {},
   "source": [
    "### 3. Visualising similarity scores"
   ]
  },
  {
   "cell_type": "code",
   "execution_count": 1166,
   "metadata": {},
   "outputs": [],
   "source": [
    "# Bar width for every plot\n",
    "bar_width = 0.3\n",
    "\n",
    "# Categories\n",
    "categories = [\"s = 0\", \"0 < s < 1\", \"s = 1\"]\n",
    "\n",
    "# Determine counts for a given series\n",
    "get_counts = lambda f: lambda x: {\n",
    "    \"s = 0\": [len(arr[arr == 0]) for arr in f(x)],\n",
    "    \"0 < s < 1\": [len(arr[(arr > 0) & (arr < 1)]) for arr in f(x)],\n",
    "    \"s = 1\": [len(arr[arr == 1]) for arr in f(x)]\n",
    "}\n",
    "\n",
    "# Determine percents for a given series\n",
    "get_percents = lambda f: lambda x: {\n",
    "    \"s = 0\": [len(arr[arr == 0]) / len(arr) for arr in f(x)],\n",
    "    \"0 < s < 1\": [len(arr[(arr > 0) & (arr < 1)]) / len(arr) for arr in f(x)],\n",
    "    \"s = 1\": [len(arr[arr == 1]) / len(arr) for arr in f(x)]\n",
    "}"
   ]
  },
  {
   "cell_type": "markdown",
   "metadata": {},
   "source": [
    "#### By company role and industry classification standard"
   ]
  },
  {
   "cell_type": "code",
   "execution_count": 1167,
   "metadata": {},
   "outputs": [],
   "source": [
    "# Function to extract all scores by role\n",
    "scores_by_role = lambda std: [np.array(df[similarity_col(std, role)]) for role, df in zip(roles, test_dfs)]\n",
    "\n",
    "# Function to calculate score count breakdown (by role)\n",
    "scores_counts_by_role = get_counts(scores_by_role)\n",
    "\n",
    "# Function to calculate score percentage (by role) breakdown\n",
    "scores_percents_by_role = get_percents(scores_by_role)"
   ]
  },
  {
   "cell_type": "code",
   "execution_count": 1168,
   "metadata": {},
   "outputs": [],
   "source": [
    "# Create a subplot based on a given ICS\n",
    "def score_subplot(std, ax, is_percent=True):\n",
    "    # Obtain the dictionary with the breakdown of values by similarity score\n",
    "    values_dict = scores_percents_by_role(std) if is_percent else scores_counts_by_role(std)\n",
    "    \n",
    "    # Initial bar heights\n",
    "    bottom = np.zeros(len(values_dict))\n",
    "    \n",
    "    # Looping through each category ('s = 0', '0 < s < 1', 's = 1')\n",
    "    for category, values in values_dict.items():\n",
    "        # Add bars for each category for all roles ('Donor', 'Intermediary', 'Receiver')\n",
    "        ax.bar(roles, values, bar_width, label=category, bottom=bottom)\n",
    "        \n",
    "        # Increment the base bar heights\n",
    "        bottom += values\n",
    "    \n",
    "    # Set the title of the subplot\n",
    "    ax.set_title(std)\n",
    "    \n",
    "    # Rotate the x-ticks by 45 degrees\n",
    "    ax.tick_params(axis=\"x\", labelrotation=45)\n",
    "    \n",
    "    # If the type of plot is a percentage plot,\n",
    "    if is_percent:\n",
    "        # format the y-axis to be percentage values\n",
    "        ax.yaxis.set_major_formatter(mtick.PercentFormatter(xmax=1))"
   ]
  },
  {
   "cell_type": "code",
   "execution_count": 1169,
   "metadata": {},
   "outputs": [
    {
     "data": {
      "image/png": "[encoded data removed]",
      "text/plain": [
       "<Figure size 640x480 with 3 Axes>"
      ]
     },
     "metadata": {},
     "output_type": "display_data"
    }
   ],
   "source": [
    "fig, axs = plt.subplots(ncols=len(non_nace_stds))\n",
    "\n",
    "# Add subplots for each standard\n",
    "for std, ax in zip(non_nace_stds, axs):\n",
    "    score_subplot(std, ax)\n",
    "\n",
    "# Add a legend to the figure\n",
    "handles, labels = plt.gca().get_legend_handles_labels()\n",
    "fig.legend(handles, labels, ncol=len(roles), loc=\"lower center\", bbox_to_anchor=[0.5, -0.05])\n",
    "\n",
    "# Set the title of the figure\n",
    "fig.suptitle(f\"NACE similarity score distribution (t = {DIFF_THRESHOLD})\")\n",
    "\n",
    "# Add enough padding between subplots to prevent overlapping\n",
    "fig.tight_layout()\n",
    "\n",
    "plt.show()"
   ]
  },
  {
   "cell_type": "markdown",
   "metadata": {},
   "source": [
    "#### By industry classification standard"
   ]
  },
  {
   "cell_type": "code",
   "execution_count": 1170,
   "metadata": {},
   "outputs": [],
   "source": [
    "# Function to extract the scores of a given standard\n",
    "scores_std = lambda std: np.concatenate(scores_by_role(std))\n",
    "\n",
    "# Function to extract the scores of a set of standards\n",
    "scores = lambda stds: [scores_std(std) for std in stds]\n",
    "\n",
    "# Score count breakdown\n",
    "score_counts_dict = get_counts(scores)(stds)\n",
    "\n",
    "# Score percentage breakdown\n",
    "score_percents_dict = get_percents(scores)(stds)"
   ]
  },
  {
   "cell_type": "code",
   "execution_count": 1171,
   "metadata": {},
   "outputs": [],
   "source": [
    "# Create a subplot based on a given ICS\n",
    "def score_plot(ax, is_percent=True):\n",
    "    # Obtain the dictionary with the breakdown of values by similarity score\n",
    "    values_dict = score_percents_dict if is_percent else score_counts_dict\n",
    "    \n",
    "    # Initial bar heights\n",
    "    bottom = np.zeros(len(values_dict))\n",
    "    \n",
    "    # Looping through each category ('s = 0', '0 < s < 1', 's = 1')\n",
    "    for std, values in values_dict.items():\n",
    "        # Add bars for each category for all standards ('ISIC', 'WZ', 'SSIC')\n",
    "        ax.bar(non_nace_stds, values, bar_width, label=std, bottom=bottom)\n",
    "        \n",
    "        # Increment the base bar heights\n",
    "        bottom += values\n",
    "    \n",
    "    # If the type of plot is a percentage plot,\n",
    "    if is_percent:\n",
    "        # format the y-axis to be percentage values\n",
    "        ax.yaxis.set_major_formatter(mtick.PercentFormatter(xmax=1))"
   ]
  },
  {
   "cell_type": "code",
   "execution_count": 1172,
   "metadata": {},
   "outputs": [
    {
     "data": {
      "image/png": "[encoded data removed]",
      "text/plain": [
       "<Figure size 640x480 with 1 Axes>"
      ]
     },
     "metadata": {},
     "output_type": "display_data"
    }
   ],
   "source": [
    "fig, ax = plt.subplots()\n",
    "\n",
    "# Add bars to the figure\n",
    "score_plot(ax)\n",
    "\n",
    "# Add a legend to the figure\n",
    "handles, labels = plt.gca().get_legend_handles_labels()\n",
    "fig.legend(handles, labels, ncol=len(non_nace_stds), loc=\"lower center\", bbox_to_anchor=[0.5, -0.05])\n",
    "\n",
    "# Set the title of the figure\n",
    "fig.suptitle(f\"NACE similarity score distribution (t = {DIFF_THRESHOLD})\")\n",
    "\n",
    "plt.show()"
   ]
  },
  {
   "cell_type": "markdown",
   "metadata": {},
   "source": [
    "### 4. Exporting results to Excel"
   ]
  },
  {
   "cell_type": "code",
   "execution_count": 1173,
   "metadata": {},
   "outputs": [],
   "source": [
    "with pd.ExcelWriter(\"data/exports/Exchanges-database Maestri_accuracy.xlsx\") as writer:\n",
    "    for i in range(len(test_dfs)):\n",
    "        role = company_roles[i][1]\n",
    "        df = test_dfs[i]\n",
    "        \n",
    "        df.to_excel(writer, sheet_name=role, index=False)\n",
    "        worksheet = writer.sheets[role]\n",
    "        workbook = writer.book\n",
    "        \n",
    "        format = workbook.add_format()\n",
    "        format.set_align('left')\n",
    "        format.set_align('vcenter')\n",
    "        \n",
    "        # Loop through all columns\n",
    "        for index, col in enumerate(df):\n",
    "            series = df[col]\n",
    "            max_len = max((\n",
    "                series.astype(str).map(len).max(),  # Length of largest item\n",
    "                len(str(series.name))               # Length of column name/header\n",
    "            ))\n",
    "            \n",
    "            # Set column width\n",
    "            worksheet.set_column(index, index, max_len, format)"
   ]
  }
 ],
 "metadata": {
  "kernelspec": {
   "display_name": "internship",
   "language": "python",
   "name": "python3"
  },
  "language_info": {
   "codemirror_mode": {
    "name": "ipython",
    "version": 3
   },
   "file_extension": ".py",
   "mimetype": "text/x-python",
   "name": "python",
   "nbconvert_exporter": "python",
   "pygments_lexer": "ipython3",
   "version": "3.11.9"
  }
 },
 "nbformat": 4,
 "nbformat_minor": 2
}
